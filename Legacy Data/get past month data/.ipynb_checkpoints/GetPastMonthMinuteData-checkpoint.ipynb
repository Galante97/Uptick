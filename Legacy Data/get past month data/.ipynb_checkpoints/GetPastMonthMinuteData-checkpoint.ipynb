{
 "cells": [
  {
   "cell_type": "code",
   "execution_count": 3,
   "metadata": {},
   "outputs": [],
   "source": [
    "#THIS PROGRAM TAKES IN A CSV FILE WITH A LIST OF STOCK\n",
    "#ITERATES THROUGH THOSE STOCKS AND GATHERS THE PREVIOUS MONTHS DATA AND SAVES IT TO CSV FILES\n",
    "#USING BARCHART API"
   ]
  },
  {
   "cell_type": "code",
   "execution_count": 4,
   "metadata": {},
   "outputs": [],
   "source": [
    "# IMPORTS #\n",
    "import time\n",
    "t0 = time.clock()\n",
    "\n",
    "import pandas as pd\n",
    "from pandas.tseries.offsets import BDay\n",
    "import numpy as np\n",
    "import datetime as dt\n",
    "from copy import copy\n",
    "import warnings\n",
    "warnings.filterwarnings('ignore',category=pd.io.pytables.PerformanceWarning)\n"
   ]
  },
  {
   "cell_type": "code",
   "execution_count": 5,
   "metadata": {},
   "outputs": [],
   "source": [
    "# ================================================================== #\n",
    "# datetime management\n",
    "\n",
    "d = dt.date.today()\n",
    "# ---------- Days ---------- \n",
    "l10 = d - 10 * BDay()\n",
    "l21 = d - 21 * BDay()\n",
    "l63 = d - 63 * BDay()\n",
    "l252 = d - 252 * BDay()\n",
    "# ---------- Years ---------- \n",
    "l252_x2 = d - 252 * 2 * BDay() \n",
    "l252_x3 = d - 252 * 3 * BDay() \n",
    "l252_x5 = d - 252 * 5 * BDay()\n",
    "l252_x7 = d - 252 * 7 * BDay() \n",
    "l252_x10 = d - 252 * 10 * BDay() \n",
    "l252_x20 = d - 252 * 20 * BDay() \n",
    "l252_x25 = d - 252 * 25 * BDay()\n",
    "\n"
   ]
  },
  {
   "cell_type": "code",
   "execution_count": 6,
   "metadata": {},
   "outputs": [],
   "source": [
    "# ================================================================== #\n",
    "# filepath management\n",
    "\n",
    "project_dir = r'/Users/jamesgalante/Documents/College/Semester 7/CPEG498/Uptick/Legacy Data/get past month data/' \n",
    "price_path = project_dir + r'Symbols/'"
   ]
  },
  {
   "cell_type": "code",
   "execution_count": 7,
   "metadata": {},
   "outputs": [],
   "source": [
    "#BARCHART API\n",
    "apikey = '0adbf00b462c1acca954a43d94279b92'\n",
    "def construct_barChart_url(sym, start_date, freq, api_key=apikey):\n",
    "    '''Function to construct barchart api url'''\n",
    "    \n",
    "    url = 'http://marketdata.websol.barchart.com/getHistory.csv?' +\\\n",
    "            'key={}&symbol={}&type={}&startDate={}'.format(api_key, sym, freq, start_date)\n",
    "    return url"
   ]
  },
  {
   "cell_type": "code",
   "execution_count": 8,
   "metadata": {},
   "outputs": [],
   "source": [
    "#get minute data for the past month for the stocks in the csv file\n",
    "def get_minute_data():\n",
    "    print(\"minute data:\")\n",
    "    '''Function to Retrieve <= 3 months of minute data for SP500 components'''\n",
    "    \n",
    "    # This is the required format for datetimes to access the API\n",
    "    # You could make a function to translate datetime to this format\n",
    "    start = '20100101' #start data doesnt matter as long as its more then a month older\n",
    "    #end = d\n",
    "    freq = 'minutes'    \n",
    "    prices = {}\n",
    "    symbol_count = len(syms)\n",
    "    N = copy(symbol_count)\n",
    "    try:\n",
    "        for i, sym in syms.iterrows():\n",
    "            \n",
    "            print(sym[\"STOCKS\"])\n",
    "            api_url = construct_barChart_url(sym[\"STOCKS\"], start, freq, api_key=apikey)\n",
    "            print(api_url)\n",
    "            try:\n",
    "                csvfile = pd.read_csv(api_url, parse_dates=['timestamp'])\n",
    "                csvfile.set_index('timestamp', inplace=True)\n",
    "                prices[sym[\"STOCKS\"]] = csvfile\n",
    "            except:\n",
    "                continue\n",
    "            N -= 1\n",
    "            pct_total_left = (N/symbol_count)\n",
    "            print('{}..[done] | {} of {} symbols collected | percent remaining: {:>.2%}'.format(\\\n",
    "                                                                sym, i, symbol_count, pct_total_left)) \n",
    "    except Exception as e: \n",
    "        print(e)\n",
    "    finally:\n",
    "        pass\n",
    "    px = pd.Panel.from_dict(prices)\n",
    "\n",
    "    return px\n",
    "\n"
   ]
  },
  {
   "cell_type": "code",
   "execution_count": 9,
   "metadata": {},
   "outputs": [
    {
     "name": "stdout",
     "output_type": "stream",
     "text": [
      "  STOCKS\n",
      "0   AAPL\n",
      "1   MSFT\n",
      "2   AMZN\n",
      "3     VZ\n",
      "4   TSLA\n",
      "\n",
      "minute data:\n",
      "AAPL\n",
      "http://marketdata.websol.barchart.com/getHistory.csv?key=0adbf00b462c1acca954a43d94279b92&symbol=AAPL&type=minutes&startDate=20100101\n",
      "STOCKS    AAPL\n",
      "Name: 0, dtype: object..[done] | 0 of 5 symbols collected | percent remaining: 80.00%\n",
      "MSFT\n",
      "http://marketdata.websol.barchart.com/getHistory.csv?key=0adbf00b462c1acca954a43d94279b92&symbol=MSFT&type=minutes&startDate=20100101\n",
      "STOCKS    MSFT\n",
      "Name: 1, dtype: object..[done] | 1 of 5 symbols collected | percent remaining: 60.00%\n",
      "AMZN\n",
      "http://marketdata.websol.barchart.com/getHistory.csv?key=0adbf00b462c1acca954a43d94279b92&symbol=AMZN&type=minutes&startDate=20100101\n",
      "STOCKS    AMZN\n",
      "Name: 2, dtype: object..[done] | 2 of 5 symbols collected | percent remaining: 40.00%\n",
      "VZ\n",
      "http://marketdata.websol.barchart.com/getHistory.csv?key=0adbf00b462c1acca954a43d94279b92&symbol=VZ&type=minutes&startDate=20100101\n",
      "STOCKS    VZ\n",
      "Name: 3, dtype: object..[done] | 3 of 5 symbols collected | percent remaining: 20.00%\n",
      "TSLA\n",
      "http://marketdata.websol.barchart.com/getHistory.csv?key=0adbf00b462c1acca954a43d94279b92&symbol=TSLA&type=minutes&startDate=20100101\n",
      "STOCKS    TSLA\n",
      "Name: 4, dtype: object..[done] | 4 of 5 symbols collected | percent remaining: 0.00%\n"
     ]
    },
    {
     "name": "stderr",
     "output_type": "stream",
     "text": [
      "/anaconda3/lib/python3.6/site-packages/ipykernel_launcher.py:33: FutureWarning: \n",
      "Panel is deprecated and will be removed in a future version.\n",
      "The recommended way to represent these types of 3-dimensional data are with a MultiIndex on a DataFrame, via the Panel.to_frame() method\n",
      "Alternatively, you can use the xarray package http://xarray.pydata.org/en/stable/.\n",
      "Pandas provides a `.to_xarray()` method to help automate this conversion.\n",
      "\n"
     ]
    }
   ],
   "source": [
    "# Read the xls file with the stocks we want to gather data from #\n",
    "spy_components = pd.read_excel(price_path + 'stock_symbols.xls', header=0) \n",
    "syms = spy_components.dropna()\n",
    "print(syms)\n",
    "print()\n",
    "\n",
    "pxx = get_minute_data()"
   ]
  },
  {
   "cell_type": "code",
   "execution_count": 10,
   "metadata": {},
   "outputs": [],
   "source": [
    "# convert timestamps to EST\n",
    "pxx.major_axis = pxx.major_axis.tz_localize('utc').tz_convert('US/Eastern')"
   ]
  },
  {
   "cell_type": "code",
   "execution_count": 24,
   "metadata": {},
   "outputs": [
    {
     "name": "stdout",
     "output_type": "stream",
     "text": [
      "<class 'pandas.core.panel.Panel'>\n",
      "Dimensions: 5 (items) x 8211 (major_axis) x 7 (minor_axis)\n",
      "Items axis: AAPL to VZ\n",
      "Major_axis axis: 2018-09-07 09:30:00-04:00 to 2018-10-05 16:00:00-04:00\n",
      "Minor_axis axis: symbol to volume\n",
      "AAPL\n",
      "MSFT\n",
      "AMZN\n",
      "VZ\n",
      "TSLA\n"
     ]
    }
   ],
   "source": [
    "#SAVE FILES\n",
    "print(pxx)\n",
    "outputPath = project_dir + 'output files/'\n",
    "for i, sym in syms.iterrows():\n",
    "    pxx[sym[\"STOCKS\"]].to_csv(outputPath + sym[\"STOCKS\"]+'.csv')\n",
    "\n",
    "#pxx['AAPL'].to_csv(outputPath + 'AAPL.csv')\n",
    "#pxx['MSFT'].to_csv(outputPath + 'MSFT.csv')\n",
    "##pxx['AMZN'].to_csv(outputPath + 'AMZN.csv')\n",
    "#pxx['VZ'].to_csv(outputPath + 'VZ.csv')\n",
    "#pxx['TSLA'].to_csv(outputPath + 'TSLA.csv')"
   ]
  },
  {
   "cell_type": "code",
   "execution_count": 97,
   "metadata": {},
   "outputs": [],
   "source": []
  },
  {
   "cell_type": "code",
   "execution_count": null,
   "metadata": {},
   "outputs": [],
   "source": []
  },
  {
   "cell_type": "code",
   "execution_count": null,
   "metadata": {},
   "outputs": [],
   "source": []
  }
 ],
 "metadata": {
  "kernelspec": {
   "display_name": "Python 3",
   "language": "python",
   "name": "python3"
  },
  "language_info": {
   "codemirror_mode": {
    "name": "ipython",
    "version": 3
   },
   "file_extension": ".py",
   "mimetype": "text/x-python",
   "name": "python",
   "nbconvert_exporter": "python",
   "pygments_lexer": "ipython3",
   "version": "3.6.4"
  }
 },
 "nbformat": 4,
 "nbformat_minor": 2
}
