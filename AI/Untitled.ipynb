{
 "cells": [
  {
   "cell_type": "code",
   "execution_count": 12,
   "metadata": {},
   "outputs": [
    {
     "name": "stdout",
     "output_type": "stream",
     "text": [
      "b815f8be415bc163b4e563c21a1ebd26d862f22a047c0aafd3dd0f919e653a0f\n"
     ]
    }
   ],
   "source": [
    "import hmac, hashlib\n",
    "print(hmac.new('secretkey'.encode(), 'forge this punks'.encode(), hashlib.sha256).hexdigest())"
   ]
  },
  {
   "cell_type": "code",
   "execution_count": 20,
   "metadata": {},
   "outputs": [
    {
     "name": "stdout",
     "output_type": "stream",
     "text": [
      "b'f371ead842e7879a7e9dc70f6027289dfff794eb1c54f6ff179a4cd6804d817f'\n"
     ]
    }
   ],
   "source": [
    "import binascii, hashlib\n",
    "\n",
    "k = 'secretkey'.encode()\n",
    "msg = 'forge this punks'.encode()\n",
    "\n",
    "kplus = k + '\\x00'.encode()*(64-len(k))\n",
    "ipad = '\\x36'.encode()*64\n",
    "opad = '\\x5C'.encode()*64\n",
    "\n",
    "def XOR(raw1, raw2):\n",
    "  return binascii.unhexlify(format(int(binascii.hexlify(raw1), 16) ^ int(binascii.hexlify(raw2), 16), 'x'))\n",
    "\n",
    "tag = hashlib.sha256(XOR(kplus, opad) + hashlib.sha256(XOR(kplus, ipad) + msg).digest()).digest()\n",
    "\n",
    "print(binascii.hexlify(tag))"
   ]
  },
  {
   "cell_type": "code",
   "execution_count": 41,
   "metadata": {},
   "outputs": [
    {
     "name": "stdout",
     "output_type": "stream",
     "text": [
      "b'\\xa70M\\n\\x90X+\\xff\\x18\\xf7\\xb7\\x1c\\xac\\xfar\\x13\\xe8\\xc7,\\x00\\x03\\xf1\\x85\\x8b\\x9c\\xb5~\\x8c\\xf2j\\x1dO'\n"
     ]
    },
    {
     "ename": "TypeError",
     "evalue": "'bytes' object is not callable",
     "output_type": "error",
     "traceback": [
      "\u001b[0;31m---------------------------------------------------------------------------\u001b[0m",
      "\u001b[0;31mTypeError\u001b[0m                                 Traceback (most recent call last)",
      "\u001b[0;32m<ipython-input-41-2647ad245a5c>\u001b[0m in \u001b[0;36m<module>\u001b[0;34m\u001b[0m\n\u001b[1;32m      8\u001b[0m \u001b[0;34m\u001b[0m\u001b[0m\n\u001b[1;32m      9\u001b[0m \u001b[0mprint\u001b[0m\u001b[0;34m(\u001b[0m\u001b[0mciphertext\u001b[0m\u001b[0;34m)\u001b[0m\u001b[0;34m\u001b[0m\u001b[0;34m\u001b[0m\u001b[0m\n\u001b[0;32m---> 10\u001b[0;31m \u001b[0mciphertext\u001b[0m\u001b[0;34m(\u001b[0m\u001b[0mtag\u001b[0m\u001b[0;34m)\u001b[0m\u001b[0;34m\u001b[0m\u001b[0;34m\u001b[0m\u001b[0m\n\u001b[0m",
      "\u001b[0;31mTypeError\u001b[0m: 'bytes' object is not callable"
     ]
    }
   ],
   "source": [
    "from Crypto.Cipher import AES\n",
    "key = b'andy love simone'\n",
    "cipher = AES.new(key, AES.MODE_EAX)\n",
    "\n",
    "nonce = cipher.nonce\n",
    "ciphertext, tag = cipher.encrypt_and_digest(b'andy love simoneandy love simone')\n",
    "\n",
    "\n",
    "print(ciphertext)\n",
    "ciphertext(tag)"
   ]
  },
  {
   "cell_type": "code",
   "execution_count": null,
   "metadata": {},
   "outputs": [],
   "source": []
  }
 ],
 "metadata": {
  "kernelspec": {
   "display_name": "Python 3",
   "language": "python",
   "name": "python3"
  },
  "language_info": {
   "codemirror_mode": {
    "name": "ipython",
    "version": 3
   },
   "file_extension": ".py",
   "mimetype": "text/x-python",
   "name": "python",
   "nbconvert_exporter": "python",
   "pygments_lexer": "ipython3",
   "version": "3.7.1"
  }
 },
 "nbformat": 4,
 "nbformat_minor": 2
}
