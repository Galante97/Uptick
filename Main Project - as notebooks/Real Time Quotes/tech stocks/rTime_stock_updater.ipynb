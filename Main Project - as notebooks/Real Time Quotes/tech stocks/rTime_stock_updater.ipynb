{
 "cells": [
  {
   "cell_type": "code",
   "execution_count": null,
   "metadata": {},
   "outputs": [],
   "source": [
    "#Continously gets real time stock data and updates every 10 minutes through the day"
   ]
  },
  {
   "cell_type": "code",
   "execution_count": 11,
   "metadata": {},
   "outputs": [],
   "source": [
    "# IMPORTS #\n",
    "import time\n",
    "t0 = time.clock()\n",
    "\n",
    "import pandas as pd\n",
    "from pandas.tseries.offsets import BDay\n",
    "import numpy as np\n",
    "import datetime as dt\n",
    "import sched\n",
    "from copy import copy\n",
    "import warnings\n",
    "\n",
    "warnings.filterwarnings('ignore',category=pd.io.pytables.PerformanceWarning)\n"
   ]
  },
  {
   "cell_type": "code",
   "execution_count": 12,
   "metadata": {},
   "outputs": [
    {
     "name": "stdout",
     "output_type": "stream",
     "text": [
      "[{'STOCKS': 'AAPL'}, {'STOCKS': 'MSFT'}, {'STOCKS': 'AMZN'}, {'STOCKS': 'VZ'}, {'STOCKS': 'TSLA'}, {'STOCKS': 'GOOGL'}, {'STOCKS': 'INTC'}, {'STOCKS': 'CSCO'}, {'STOCKS': 'ORCL'}, {'STOCKS': 'QCOM'}, {'STOCKS': 'FB'}, {'STOCKS': 'IBM'}]\n"
     ]
    }
   ],
   "source": [
    "import gspread\n",
    "from oauth2client.service_account import ServiceAccountCredentials\n",
    "\n",
    "# use creds to create a client to interact with the Google Drive API\n",
    "scope = ['https://spreadsheets.google.com/feeds', \n",
    "            'https://www.googleapis.com/auth/drive']\n",
    "creds = ServiceAccountCredentials.from_json_keyfile_name('client_secret.json', scope)\n",
    "client = gspread.authorize(creds)\n",
    "\n",
    "# Find a workbook by name and open the first sheet\n",
    "# Make sure you use the right name here.\n",
    "\n",
    "stockList = client.open(\"STOCKS LIST\").sheet1 #stock list\n",
    "\n",
    "#real time sheets\n",
    "APPL_rTime = client.open(\"AAPL_rTime\").sheet1\n",
    "TSLA_rTime = client.open(\"TSLA_rTime\").sheet1\n",
    "MSFT_rTime = client.open(\"MSFT_rTime\").sheet1\n",
    "VZ_rTime = client.open(\"VZ_rTime\").sheet1\n",
    "AMZN_rTime = client.open(\"AMZN_rTime\").sheet1\n",
    "\n",
    "GOOGL_rTime = client.open(\"GOOGL_rTime\").sheet1\n",
    "INTC_rTime = client.open(\"INTC_rTime\").sheet1\n",
    "CSCO_rTime = client.open(\"CSCO_rTime\").sheet1\n",
    "ORCL_rTime = client.open(\"ORCL_rTime\").sheet1\n",
    "QCOM_rTime = client.open(\"QCOM_rTime\").sheet1\n",
    "FB_rTime = client.open(\"FB_rTime\").sheet1\n",
    "IBM_rTime = client.open(\"IBM_rTime\").sheet1\n",
    "\n",
    "#legacy sheets\n",
    "AAPL_data = client.open(\"AAPL_data\").sheet1  #legacy\n",
    "VZ_data = client.open(\"VZ_data\").sheet1 #legacy\n",
    "AMZN_data = client.open(\"AMZN_data\").sheet1 #legacy\n",
    "MSFT_data = client.open(\"MSFT_data\").sheet1 #legacy\n",
    "TSLA_data = client.open(\"TSLA_data\").sheet1 #legacy\n",
    "\n",
    "# Extract and print all of the values\n",
    "list_of_hashes = stockList.get_all_records()\n",
    "print(list_of_hashes)\n",
    "#setUpSheetsClient()"
   ]
  },
  {
   "cell_type": "code",
   "execution_count": 13,
   "metadata": {},
   "outputs": [],
   "source": [
    "# ================================================================== #\n",
    "# filepath management\n",
    "\n",
    "project_dir = r'/Users/jamesgalante/Documents/College/Semester 7/CPEG498/Uptick/Legacy Data/get past month data/' \n",
    "price_path = project_dir + r'Symbols/'\n",
    "apikey = '0adbf00b462c1acca954a43d94279b92'\n"
   ]
  },
  {
   "cell_type": "code",
   "execution_count": 14,
   "metadata": {},
   "outputs": [],
   "source": [
    "# ================================================================== #\n",
    "# datetime management\n",
    "\n",
    "d = dt.date.today()\n",
    "# ---------- Days ---------- \n",
    "l10 = d - 10 * BDay()\n",
    "l21 = d - 21 * BDay()\n",
    "l63 = d - 63 * BDay()\n",
    "l252 = d - 252 * BDay()\n",
    "# ---------- Years ---------- \n",
    "l252_x2 = d - 252 * 2 * BDay() \n",
    "l252_x3 = d - 252 * 3 * BDay() \n",
    "l252_x5 = d - 252 * 5 * BDay()\n",
    "l252_x7 = d - 252 * 7 * BDay() \n",
    "l252_x10 = d - 252 * 10 * BDay() \n",
    "l252_x20 = d - 252 * 20 * BDay() \n",
    "l252_x25 = d - 252 * 25 * BDay()\n"
   ]
  },
  {
   "cell_type": "code",
   "execution_count": 15,
   "metadata": {},
   "outputs": [],
   "source": [
    "##points to our google sheet \"STOCKS LIST\" gets the values and makes it a pandas dataframe to manipulate\n",
    "def getStockList():\n",
    "    sheetsList = stockList.get_all_values()\n",
    "    sheetsList = sheetsList[1:] #remove \"STOCKS\" title\n",
    "    ##print(sheetsList)\n",
    "    sheetsList = flatten(sheetsList)\n",
    "    #print(sheetsList)\n",
    "    #create new df \n",
    "    df = pd.DataFrame({'STOCKS':sheetsList})\n",
    "    return df\n"
   ]
  },
  {
   "cell_type": "code",
   "execution_count": 16,
   "metadata": {},
   "outputs": [],
   "source": [
    "##takes a 2d list and flattens it to 1d\n",
    "def flatten(input):\n",
    "    new_list = []\n",
    "    for i in input:\n",
    "        for j in i:\n",
    "            new_list.append(j)\n",
    "    return new_list"
   ]
  },
  {
   "cell_type": "code",
   "execution_count": 17,
   "metadata": {},
   "outputs": [
    {
     "name": "stdout",
     "output_type": "stream",
     "text": [
      "   STOCKS\n",
      "0    AAPL\n",
      "1    MSFT\n",
      "2    AMZN\n",
      "3      VZ\n",
      "4    TSLA\n",
      "5   GOOGL\n",
      "6    INTC\n",
      "7    CSCO\n",
      "8    ORCL\n",
      "9    QCOM\n",
      "10     FB\n",
      "11    IBM\n"
     ]
    }
   ],
   "source": [
    "#setting list of stock symbols to var syms\n",
    "syms = getStockList() #dataframe of the stocks we are getting data for\n",
    "print(syms)"
   ]
  },
  {
   "cell_type": "code",
   "execution_count": 18,
   "metadata": {},
   "outputs": [],
   "source": [
    "#BARCHART API\n",
    "def construct_barChart_url(sym, api_key=apikey):\n",
    "    '''Function to construct barchart api url'''\n",
    "    \n",
    "    url = 'http://marketdata.websol.barchart.com/getQuote.csv?' +\\\n",
    "            'key={}&symbols='.format(api_key, sym)\n",
    "    return url"
   ]
  },
  {
   "cell_type": "code",
   "execution_count": 19,
   "metadata": {},
   "outputs": [
    {
     "name": "stdout",
     "output_type": "stream",
     "text": [
      "Barchart OnDemand Client: https://marketdata.websol.barchart.com/\n",
      "[{'symbol': 'AAPL', 'exchange': 'BATS', 'name': 'Apple Inc', 'dayCode': '1', 'serverTimestamp': '2018-11-04T05:15:20-06:00', 'mode': 'i', 'lastPrice': 207.48, 'tradeTimestamp': '2018-11-01T00:00:00-05:00', 'netChange': 207.48, 'percentChange': 0, 'unitCode': '2', 'open': 0, 'high': 0, 'low': 0, 'close': 207.48, 'flag': 's', 'volume': 0}]\n"
     ]
    },
    {
     "data": {
      "text/plain": [
       "[{'close': 207.48,\n",
       "  'dayCode': '1',\n",
       "  'exchange': 'BATS',\n",
       "  'flag': 's',\n",
       "  'high': 0,\n",
       "  'lastPrice': 207.48,\n",
       "  'low': 0,\n",
       "  'mode': 'i',\n",
       "  'name': 'Apple Inc',\n",
       "  'netChange': 207.48,\n",
       "  'open': 0,\n",
       "  'percentChange': 0,\n",
       "  'serverTimestamp': '2018-11-04T05:15:20-06:00',\n",
       "  'symbol': 'AAPL',\n",
       "  'tradeTimestamp': '2018-11-01T00:00:00-05:00',\n",
       "  'unitCode': '2',\n",
       "  'volume': 0}]"
      ]
     },
     "execution_count": 19,
     "metadata": {},
     "output_type": "execute_result"
    }
   ],
   "source": [
    "import ondemand\n",
    "# get quote data for Apple and Microsoft\n",
    "def getStockLiveData(stock):\n",
    "    od = ondemand.OnDemandClient(api_key=apikey, end_point='https://marketdata.websol.barchart.com/')\n",
    "    quote = od.quote(stock)['results']\n",
    "    print(quote)\n",
    "    return (quote)\n",
    "\n",
    "getStockLiveData('AAPL')"
   ]
  },
  {
   "cell_type": "code",
   "execution_count": 20,
   "metadata": {},
   "outputs": [],
   "source": [
    "def sendDataToSheets():\n",
    "    stocks = syms['STOCKS'].values.tolist()\n",
    "    for s in stocks:\n",
    "        time.sleep(0.21)\n",
    "        print(s)\n",
    "        stockData = getStockLiveData(s)\n",
    "        print(stockData)\n",
    "\n",
    "        timestamp = str(dt.datetime.now().time())\n",
    "\n",
    "        if(s == 'AAPL'):\n",
    "            print(\"adding AAPL\")\n",
    "            APPL_rTime.append_row([timestamp, stockData[0]['symbol'], str(dt.date.today()), stockData[0]['lastPrice'], stockData[0]['open'], stockData[0]['high'], stockData[0]['low'], stockData[0]['netChange'], stockData[0]['volume']])    \n",
    "        elif (s == 'VZ'):\n",
    "            print(\"adding VZ\")\n",
    "            VZ_rTime.append_row([timestamp, stockData[0]['symbol'], str(dt.date.today()), stockData[0]['lastPrice'], stockData[0]['open'], stockData[0]['high'], stockData[0]['low'], stockData[0]['netChange'], stockData[0]['volume']])    \n",
    "        elif (s == 'TSLA'):\n",
    "            print(\"adding TSLA\")\n",
    "            TSLA_rTime.append_row([timestamp, stockData[0]['symbol'], str(dt.date.today()), stockData[0]['lastPrice'], stockData[0]['open'], stockData[0]['high'], stockData[0]['low'], stockData[0]['netChange'], stockData[0]['volume']])    \n",
    "        elif (s == 'AMZN'):\n",
    "            print(\"adding AMZN\")\n",
    "            AMZN_rTime.append_row([timestamp, stockData[0]['symbol'], str(dt.date.today()), stockData[0]['lastPrice'], stockData[0]['open'], stockData[0]['high'], stockData[0]['low'], stockData[0]['netChange'], stockData[0]['volume']])    \n",
    "        elif (s == 'MSFT'):\n",
    "            print(\"adding MSFT\")\n",
    "            MSFT_rTime.append_row([timestamp, stockData[0]['symbol'], str(dt.date.today()), stockData[0]['lastPrice'], stockData[0]['open'], stockData[0]['high'], stockData[0]['low'], stockData[0]['netChange'], stockData[0]['volume']])    \n",
    "        elif (s == 'GOOGL'):\n",
    "            print(\"adding GOOGL\")\n",
    "            GOOGL_rTime.append_row([timestamp, stockData[0]['symbol'], str(dt.date.today()), stockData[0]['lastPrice'], stockData[0]['open'], stockData[0]['high'], stockData[0]['low'], stockData[0]['netChange'], stockData[0]['volume']])    \n",
    "        elif (s == 'INTC'):\n",
    "            print(\"adding INTC\")\n",
    "            INTC_rTime.append_row([timestamp, stockData[0]['symbol'], str(dt.date.today()), stockData[0]['lastPrice'], stockData[0]['open'], stockData[0]['high'], stockData[0]['low'], stockData[0]['netChange'], stockData[0]['volume']])    \n",
    "        elif (s == 'CSCO'):\n",
    "            print(\"adding CSCO\")\n",
    "            CSCO_rTime.append_row([timestamp, stockData[0]['symbol'], str(dt.date.today()), stockData[0]['lastPrice'], stockData[0]['open'], stockData[0]['high'], stockData[0]['low'], stockData[0]['netChange'], stockData[0]['volume']])    \n",
    "        elif (s == 'ORCL'):\n",
    "            print(\"adding ORCL\")\n",
    "            ORCL_rTime.append_row([timestamp, stockData[0]['symbol'], str(dt.date.today()), stockData[0]['lastPrice'], stockData[0]['open'], stockData[0]['high'], stockData[0]['low'], stockData[0]['netChange'], stockData[0]['volume']])    \n",
    "        elif (s == 'QCOM'):\n",
    "            print(\"adding QCOM\")\n",
    "            QCOM_rTime.append_row([timestamp, stockData[0]['symbol'], str(dt.date.today()), stockData[0]['lastPrice'], stockData[0]['open'], stockData[0]['high'], stockData[0]['low'], stockData[0]['netChange'], stockData[0]['volume']])    \n",
    "        elif (s == 'FB'):\n",
    "            print(\"adding FB\")\n",
    "            FB_rTime.append_row([timestamp, stockData[0]['symbol'], str(dt.date.today()), stockData[0]['lastPrice'], stockData[0]['open'], stockData[0]['high'], stockData[0]['low'], stockData[0]['netChange'], stockData[0]['volume']])    \n",
    "        elif (s == 'IBM'):\n",
    "            print(\"adding IBM\")\n",
    "            IBM_rTime.append_row([timestamp, stockData[0]['symbol'], str(dt.date.today()), stockData[0]['lastPrice'], stockData[0]['open'], stockData[0]['high'], stockData[0]['low'], stockData[0]['netChange'], stockData[0]['volume']])    \n"
   ]
  },
  {
   "cell_type": "code",
   "execution_count": 21,
   "metadata": {},
   "outputs": [
    {
     "name": "stdout",
     "output_type": "stream",
     "text": [
      "call again in 15 sec\n",
      "AAPL\n",
      "Barchart OnDemand Client: https://marketdata.websol.barchart.com/\n",
      "[{'symbol': 'AAPL', 'exchange': 'BATS', 'name': 'Apple Inc', 'dayCode': '1', 'serverTimestamp': '2018-11-04T05:15:20-06:00', 'mode': 'i', 'lastPrice': 207.48, 'tradeTimestamp': '2018-11-01T00:00:00-05:00', 'netChange': 207.48, 'percentChange': 0, 'unitCode': '2', 'open': 0, 'high': 0, 'low': 0, 'close': 207.48, 'flag': 's', 'volume': 0}]\n",
      "[{'symbol': 'AAPL', 'exchange': 'BATS', 'name': 'Apple Inc', 'dayCode': '1', 'serverTimestamp': '2018-11-04T05:15:20-06:00', 'mode': 'i', 'lastPrice': 207.48, 'tradeTimestamp': '2018-11-01T00:00:00-05:00', 'netChange': 207.48, 'percentChange': 0, 'unitCode': '2', 'open': 0, 'high': 0, 'low': 0, 'close': 207.48, 'flag': 's', 'volume': 0}]\n",
      "adding AAPL\n",
      "MSFT\n",
      "Barchart OnDemand Client: https://marketdata.websol.barchart.com/\n",
      "[{'symbol': 'MSFT', 'exchange': 'BATS', 'name': 'Microsoft Corp', 'dayCode': '1', 'serverTimestamp': '2018-11-04T06:37:46-06:00', 'mode': 'i', 'lastPrice': 106.16, 'tradeTimestamp': '2018-11-01T00:00:00-05:00', 'netChange': 106.16, 'percentChange': 0, 'unitCode': '2', 'open': 0, 'high': 0, 'low': 0, 'close': 106.16, 'flag': 's', 'volume': 0}]\n",
      "[{'symbol': 'MSFT', 'exchange': 'BATS', 'name': 'Microsoft Corp', 'dayCode': '1', 'serverTimestamp': '2018-11-04T06:37:46-06:00', 'mode': 'i', 'lastPrice': 106.16, 'tradeTimestamp': '2018-11-01T00:00:00-05:00', 'netChange': 106.16, 'percentChange': 0, 'unitCode': '2', 'open': 0, 'high': 0, 'low': 0, 'close': 106.16, 'flag': 's', 'volume': 0}]\n",
      "adding MSFT\n",
      "AMZN\n",
      "Barchart OnDemand Client: https://marketdata.websol.barchart.com/\n",
      "[{'symbol': 'AMZN', 'exchange': 'BATS', 'name': 'Amazon.com Inc', 'dayCode': '1', 'serverTimestamp': '2018-11-04T05:15:41-06:00', 'mode': 'i', 'lastPrice': 1665.53, 'tradeTimestamp': '2018-11-01T00:00:00-05:00', 'netChange': 1665.53, 'percentChange': 0, 'unitCode': '2', 'open': 0, 'high': 0, 'low': 0, 'close': 1665.53, 'flag': 's', 'volume': 0}]\n",
      "[{'symbol': 'AMZN', 'exchange': 'BATS', 'name': 'Amazon.com Inc', 'dayCode': '1', 'serverTimestamp': '2018-11-04T05:15:41-06:00', 'mode': 'i', 'lastPrice': 1665.53, 'tradeTimestamp': '2018-11-01T00:00:00-05:00', 'netChange': 1665.53, 'percentChange': 0, 'unitCode': '2', 'open': 0, 'high': 0, 'low': 0, 'close': 1665.53, 'flag': 's', 'volume': 0}]\n",
      "adding AMZN\n",
      "VZ\n",
      "Barchart OnDemand Client: https://marketdata.websol.barchart.com/\n",
      "[{'symbol': 'VZ', 'exchange': 'BATS', 'name': 'Verizon Communications Inc', 'dayCode': '1', 'serverTimestamp': '2018-11-04T05:26:25-06:00', 'mode': 'i', 'lastPrice': 56.63, 'tradeTimestamp': '2018-11-01T00:00:00-05:00', 'netChange': 56.63, 'percentChange': 0, 'unitCode': '2', 'open': 0, 'high': 0, 'low': 0, 'close': 56.63, 'flag': 's', 'volume': 0}]\n",
      "[{'symbol': 'VZ', 'exchange': 'BATS', 'name': 'Verizon Communications Inc', 'dayCode': '1', 'serverTimestamp': '2018-11-04T05:26:25-06:00', 'mode': 'i', 'lastPrice': 56.63, 'tradeTimestamp': '2018-11-01T00:00:00-05:00', 'netChange': 56.63, 'percentChange': 0, 'unitCode': '2', 'open': 0, 'high': 0, 'low': 0, 'close': 56.63, 'flag': 's', 'volume': 0}]\n",
      "adding VZ\n",
      "TSLA\n",
      "Barchart OnDemand Client: https://marketdata.websol.barchart.com/\n",
      "[{'symbol': 'TSLA', 'exchange': 'BATS', 'name': 'Tesla Inc', 'dayCode': '1', 'serverTimestamp': '2018-11-04T03:28:15-06:00', 'mode': 'i', 'lastPrice': 346.41, 'tradeTimestamp': '2018-11-01T00:00:00-05:00', 'netChange': 346.41, 'percentChange': 0, 'unitCode': '2', 'open': 0, 'high': 0, 'low': 0, 'close': 346.41, 'flag': 's', 'volume': 0}]\n",
      "[{'symbol': 'TSLA', 'exchange': 'BATS', 'name': 'Tesla Inc', 'dayCode': '1', 'serverTimestamp': '2018-11-04T03:28:15-06:00', 'mode': 'i', 'lastPrice': 346.41, 'tradeTimestamp': '2018-11-01T00:00:00-05:00', 'netChange': 346.41, 'percentChange': 0, 'unitCode': '2', 'open': 0, 'high': 0, 'low': 0, 'close': 346.41, 'flag': 's', 'volume': 0}]\n",
      "adding TSLA\n",
      "GOOGL\n",
      "Barchart OnDemand Client: https://marketdata.websol.barchart.com/\n",
      "[{'symbol': 'GOOGL', 'exchange': 'BATS', 'name': 'Alphabet Class A', 'dayCode': '1', 'serverTimestamp': '2018-11-04T08:50:05-06:00', 'mode': 'i', 'lastPrice': 1071.49, 'tradeTimestamp': '2018-11-01T00:00:00-05:00', 'netChange': 1071.49, 'percentChange': 0, 'unitCode': '2', 'open': 0, 'high': 0, 'low': 0, 'close': 1071.49, 'flag': 's', 'volume': 0}]\n",
      "[{'symbol': 'GOOGL', 'exchange': 'BATS', 'name': 'Alphabet Class A', 'dayCode': '1', 'serverTimestamp': '2018-11-04T08:50:05-06:00', 'mode': 'i', 'lastPrice': 1071.49, 'tradeTimestamp': '2018-11-01T00:00:00-05:00', 'netChange': 1071.49, 'percentChange': 0, 'unitCode': '2', 'open': 0, 'high': 0, 'low': 0, 'close': 1071.49, 'flag': 's', 'volume': 0}]\n",
      "adding GOOGL\n",
      "INTC\n",
      "Barchart OnDemand Client: https://marketdata.websol.barchart.com/\n",
      "[{'symbol': 'INTC', 'exchange': 'BATS', 'name': 'Intel Corp', 'dayCode': '1', 'serverTimestamp': '2018-11-04T08:46:17-06:00', 'mode': 'i', 'lastPrice': 47.11, 'tradeTimestamp': '2018-11-01T00:00:00-05:00', 'netChange': 47.11, 'percentChange': 0, 'unitCode': '2', 'open': 0, 'high': 0, 'low': 0, 'close': 47.11, 'flag': 's', 'volume': 0}]\n",
      "[{'symbol': 'INTC', 'exchange': 'BATS', 'name': 'Intel Corp', 'dayCode': '1', 'serverTimestamp': '2018-11-04T08:46:17-06:00', 'mode': 'i', 'lastPrice': 47.11, 'tradeTimestamp': '2018-11-01T00:00:00-05:00', 'netChange': 47.11, 'percentChange': 0, 'unitCode': '2', 'open': 0, 'high': 0, 'low': 0, 'close': 47.11, 'flag': 's', 'volume': 0}]\n",
      "adding INTC\n",
      "CSCO\n",
      "Barchart OnDemand Client: https://marketdata.websol.barchart.com/\n",
      "[{'symbol': 'CSCO', 'exchange': 'BATS', 'name': 'Cisco Systems Inc', 'dayCode': '1', 'serverTimestamp': '2018-11-04T06:37:51-06:00', 'mode': 'i', 'lastPrice': 45.48, 'tradeTimestamp': '2018-11-01T00:00:00-05:00', 'netChange': 45.48, 'percentChange': 0, 'unitCode': '2', 'open': 0, 'high': 0, 'low': 0, 'close': 45.48, 'flag': 's', 'volume': 0}]\n",
      "[{'symbol': 'CSCO', 'exchange': 'BATS', 'name': 'Cisco Systems Inc', 'dayCode': '1', 'serverTimestamp': '2018-11-04T06:37:51-06:00', 'mode': 'i', 'lastPrice': 45.48, 'tradeTimestamp': '2018-11-01T00:00:00-05:00', 'netChange': 45.48, 'percentChange': 0, 'unitCode': '2', 'open': 0, 'high': 0, 'low': 0, 'close': 45.48, 'flag': 's', 'volume': 0}]\n",
      "adding CSCO\n",
      "ORCL\n",
      "Barchart OnDemand Client: https://marketdata.websol.barchart.com/\n",
      "[{'symbol': 'ORCL', 'exchange': 'BATS', 'name': 'Oracle Corp', 'dayCode': '1', 'serverTimestamp': '2018-11-04T08:46:57-06:00', 'mode': 'i', 'lastPrice': 48.83, 'tradeTimestamp': '2018-11-01T00:00:00-05:00', 'netChange': 48.83, 'percentChange': 0, 'unitCode': '2', 'open': 0, 'high': 0, 'low': 0, 'close': 48.83, 'flag': 's', 'volume': 0}]\n",
      "[{'symbol': 'ORCL', 'exchange': 'BATS', 'name': 'Oracle Corp', 'dayCode': '1', 'serverTimestamp': '2018-11-04T08:46:57-06:00', 'mode': 'i', 'lastPrice': 48.83, 'tradeTimestamp': '2018-11-01T00:00:00-05:00', 'netChange': 48.83, 'percentChange': 0, 'unitCode': '2', 'open': 0, 'high': 0, 'low': 0, 'close': 48.83, 'flag': 's', 'volume': 0}]\n",
      "adding ORCL\n",
      "QCOM\n",
      "Barchart OnDemand Client: https://marketdata.websol.barchart.com/\n",
      "[{'symbol': 'QCOM', 'exchange': 'BATS', 'name': 'Qualcomm Inc', 'dayCode': '1', 'serverTimestamp': '2018-11-04T08:51:33-06:00', 'mode': 'i', 'lastPrice': 63.33, 'tradeTimestamp': '2018-11-01T00:00:00-05:00', 'netChange': 63.33, 'percentChange': 0, 'unitCode': '2', 'open': 0, 'high': 0, 'low': 0, 'close': 63.33, 'flag': 's', 'volume': 0}]\n",
      "[{'symbol': 'QCOM', 'exchange': 'BATS', 'name': 'Qualcomm Inc', 'dayCode': '1', 'serverTimestamp': '2018-11-04T08:51:33-06:00', 'mode': 'i', 'lastPrice': 63.33, 'tradeTimestamp': '2018-11-01T00:00:00-05:00', 'netChange': 63.33, 'percentChange': 0, 'unitCode': '2', 'open': 0, 'high': 0, 'low': 0, 'close': 63.33, 'flag': 's', 'volume': 0}]\n",
      "adding QCOM\n",
      "FB\n",
      "Barchart OnDemand Client: https://marketdata.websol.barchart.com/\n",
      "[{'symbol': 'FB', 'exchange': 'BATS', 'name': 'Facebook Inc', 'dayCode': '1', 'serverTimestamp': '2018-11-04T05:15:44-06:00', 'mode': 'i', 'lastPrice': 150.35, 'tradeTimestamp': '2018-11-01T00:00:00-05:00', 'netChange': 150.35, 'percentChange': 0, 'unitCode': '2', 'open': 0, 'high': 0, 'low': 0, 'close': 150.35, 'flag': 's', 'volume': 0}]\n",
      "[{'symbol': 'FB', 'exchange': 'BATS', 'name': 'Facebook Inc', 'dayCode': '1', 'serverTimestamp': '2018-11-04T05:15:44-06:00', 'mode': 'i', 'lastPrice': 150.35, 'tradeTimestamp': '2018-11-01T00:00:00-05:00', 'netChange': 150.35, 'percentChange': 0, 'unitCode': '2', 'open': 0, 'high': 0, 'low': 0, 'close': 150.35, 'flag': 's', 'volume': 0}]\n",
      "adding FB\n",
      "IBM\n",
      "Barchart OnDemand Client: https://marketdata.websol.barchart.com/\n",
      "[{'symbol': 'IBM', 'exchange': 'BATS', 'name': 'International Business Machines', 'dayCode': '1', 'serverTimestamp': '2018-11-04T05:15:51-06:00', 'mode': 'i', 'lastPrice': 115.67, 'tradeTimestamp': '2018-11-01T00:00:00-05:00', 'netChange': 115.67, 'percentChange': 0, 'unitCode': '2', 'open': 0, 'high': 0, 'low': 0, 'close': 115.67, 'flag': 's', 'volume': 0}]\n",
      "[{'symbol': 'IBM', 'exchange': 'BATS', 'name': 'International Business Machines', 'dayCode': '1', 'serverTimestamp': '2018-11-04T05:15:51-06:00', 'mode': 'i', 'lastPrice': 115.67, 'tradeTimestamp': '2018-11-01T00:00:00-05:00', 'netChange': 115.67, 'percentChange': 0, 'unitCode': '2', 'open': 0, 'high': 0, 'low': 0, 'close': 115.67, 'flag': 's', 'volume': 0}]\n",
      "adding IBM\n",
      "call again in 15 sec\n",
      "AAPL\n",
      "Barchart OnDemand Client: https://marketdata.websol.barchart.com/\n",
      "[{'symbol': 'AAPL', 'exchange': 'BATS', 'name': 'Apple Inc', 'dayCode': '1', 'serverTimestamp': '2018-11-04T05:15:23-06:00', 'mode': 'i', 'lastPrice': 207.48, 'tradeTimestamp': '2018-11-01T00:00:00-05:00', 'netChange': 207.48, 'percentChange': 0, 'unitCode': '2', 'open': 0, 'high': 0, 'low': 0, 'close': 207.48, 'flag': 's', 'volume': 0}]\n",
      "[{'symbol': 'AAPL', 'exchange': 'BATS', 'name': 'Apple Inc', 'dayCode': '1', 'serverTimestamp': '2018-11-04T05:15:23-06:00', 'mode': 'i', 'lastPrice': 207.48, 'tradeTimestamp': '2018-11-01T00:00:00-05:00', 'netChange': 207.48, 'percentChange': 0, 'unitCode': '2', 'open': 0, 'high': 0, 'low': 0, 'close': 207.48, 'flag': 's', 'volume': 0}]\n",
      "adding AAPL\n",
      "MSFT\n",
      "Barchart OnDemand Client: https://marketdata.websol.barchart.com/\n",
      "[{'symbol': 'MSFT', 'exchange': 'BATS', 'name': 'Microsoft Corp', 'dayCode': '1', 'serverTimestamp': '2018-11-04T06:40:28-06:00', 'mode': 'i', 'lastPrice': 106.16, 'tradeTimestamp': '2018-11-01T00:00:00-05:00', 'netChange': 106.16, 'percentChange': 0, 'unitCode': '2', 'open': 0, 'high': 0, 'low': 0, 'close': 106.16, 'flag': 's', 'volume': 0}]\n",
      "[{'symbol': 'MSFT', 'exchange': 'BATS', 'name': 'Microsoft Corp', 'dayCode': '1', 'serverTimestamp': '2018-11-04T06:40:28-06:00', 'mode': 'i', 'lastPrice': 106.16, 'tradeTimestamp': '2018-11-01T00:00:00-05:00', 'netChange': 106.16, 'percentChange': 0, 'unitCode': '2', 'open': 0, 'high': 0, 'low': 0, 'close': 106.16, 'flag': 's', 'volume': 0}]\n",
      "adding MSFT\n",
      "AMZN\n",
      "Barchart OnDemand Client: https://marketdata.websol.barchart.com/\n",
      "[{'symbol': 'AMZN', 'exchange': 'BATS', 'name': 'Amazon.com Inc', 'dayCode': '1', 'serverTimestamp': '2018-11-04T05:15:41-06:00', 'mode': 'i', 'lastPrice': 1665.53, 'tradeTimestamp': '2018-11-01T00:00:00-05:00', 'netChange': 1665.53, 'percentChange': 0, 'unitCode': '2', 'open': 0, 'high': 0, 'low': 0, 'close': 1665.53, 'flag': 's', 'volume': 0}]\n",
      "[{'symbol': 'AMZN', 'exchange': 'BATS', 'name': 'Amazon.com Inc', 'dayCode': '1', 'serverTimestamp': '2018-11-04T05:15:41-06:00', 'mode': 'i', 'lastPrice': 1665.53, 'tradeTimestamp': '2018-11-01T00:00:00-05:00', 'netChange': 1665.53, 'percentChange': 0, 'unitCode': '2', 'open': 0, 'high': 0, 'low': 0, 'close': 1665.53, 'flag': 's', 'volume': 0}]\n",
      "adding AMZN\n",
      "VZ\n",
      "Barchart OnDemand Client: https://marketdata.websol.barchart.com/\n",
      "[{'symbol': 'VZ', 'exchange': 'BATS', 'name': 'Verizon Communications Inc', 'dayCode': '1', 'serverTimestamp': '2018-11-04T08:45:10-06:00', 'mode': 'i', 'lastPrice': 56.63, 'tradeTimestamp': '2018-11-01T00:00:00-05:00', 'netChange': 56.63, 'percentChange': 0, 'unitCode': '2', 'open': 0, 'high': 0, 'low': 0, 'close': 56.63, 'flag': 's', 'volume': 0}]\n",
      "[{'symbol': 'VZ', 'exchange': 'BATS', 'name': 'Verizon Communications Inc', 'dayCode': '1', 'serverTimestamp': '2018-11-04T08:45:10-06:00', 'mode': 'i', 'lastPrice': 56.63, 'tradeTimestamp': '2018-11-01T00:00:00-05:00', 'netChange': 56.63, 'percentChange': 0, 'unitCode': '2', 'open': 0, 'high': 0, 'low': 0, 'close': 56.63, 'flag': 's', 'volume': 0}]\n",
      "adding VZ\n",
      "TSLA\n",
      "Barchart OnDemand Client: https://marketdata.websol.barchart.com/\n",
      "[{'symbol': 'TSLA', 'exchange': 'BATS', 'name': 'Tesla Inc', 'dayCode': '1', 'serverTimestamp': '2018-11-04T03:28:15-06:00', 'mode': 'i', 'lastPrice': 346.41, 'tradeTimestamp': '2018-11-01T00:00:00-05:00', 'netChange': 346.41, 'percentChange': 0, 'unitCode': '2', 'open': 0, 'high': 0, 'low': 0, 'close': 346.41, 'flag': 's', 'volume': 0}]\n",
      "[{'symbol': 'TSLA', 'exchange': 'BATS', 'name': 'Tesla Inc', 'dayCode': '1', 'serverTimestamp': '2018-11-04T03:28:15-06:00', 'mode': 'i', 'lastPrice': 346.41, 'tradeTimestamp': '2018-11-01T00:00:00-05:00', 'netChange': 346.41, 'percentChange': 0, 'unitCode': '2', 'open': 0, 'high': 0, 'low': 0, 'close': 346.41, 'flag': 's', 'volume': 0}]\n",
      "adding TSLA\n",
      "GOOGL\n",
      "Barchart OnDemand Client: https://marketdata.websol.barchart.com/\n",
      "[{'symbol': 'GOOGL', 'exchange': 'BATS', 'name': 'Alphabet Class A', 'dayCode': '1', 'serverTimestamp': '2018-11-04T08:45:07-06:00', 'mode': 'i', 'lastPrice': 1071.49, 'tradeTimestamp': '2018-11-01T00:00:00-05:00', 'netChange': 1071.49, 'percentChange': 0, 'unitCode': '2', 'open': 0, 'high': 0, 'low': 0, 'close': 1071.49, 'flag': 's', 'volume': 0}]\n",
      "[{'symbol': 'GOOGL', 'exchange': 'BATS', 'name': 'Alphabet Class A', 'dayCode': '1', 'serverTimestamp': '2018-11-04T08:45:07-06:00', 'mode': 'i', 'lastPrice': 1071.49, 'tradeTimestamp': '2018-11-01T00:00:00-05:00', 'netChange': 1071.49, 'percentChange': 0, 'unitCode': '2', 'open': 0, 'high': 0, 'low': 0, 'close': 1071.49, 'flag': 's', 'volume': 0}]\n",
      "adding GOOGL\n",
      "INTC\n",
      "Barchart OnDemand Client: https://marketdata.websol.barchart.com/\n",
      "[{'symbol': 'INTC', 'exchange': 'BATS', 'name': 'Intel Corp', 'dayCode': '1', 'serverTimestamp': '2018-11-04T08:46:17-06:00', 'mode': 'i', 'lastPrice': 47.11, 'tradeTimestamp': '2018-11-01T00:00:00-05:00', 'netChange': 47.11, 'percentChange': 0, 'unitCode': '2', 'open': 0, 'high': 0, 'low': 0, 'close': 47.11, 'flag': 's', 'volume': 0}]\n",
      "[{'symbol': 'INTC', 'exchange': 'BATS', 'name': 'Intel Corp', 'dayCode': '1', 'serverTimestamp': '2018-11-04T08:46:17-06:00', 'mode': 'i', 'lastPrice': 47.11, 'tradeTimestamp': '2018-11-01T00:00:00-05:00', 'netChange': 47.11, 'percentChange': 0, 'unitCode': '2', 'open': 0, 'high': 0, 'low': 0, 'close': 47.11, 'flag': 's', 'volume': 0}]\n",
      "adding INTC\n",
      "CSCO\n",
      "Barchart OnDemand Client: https://marketdata.websol.barchart.com/\n",
      "[{'symbol': 'CSCO', 'exchange': 'BATS', 'name': 'Cisco Systems Inc', 'dayCode': '1', 'serverTimestamp': '2018-11-04T06:37:51-06:00', 'mode': 'i', 'lastPrice': 45.48, 'tradeTimestamp': '2018-11-01T00:00:00-05:00', 'netChange': 45.48, 'percentChange': 0, 'unitCode': '2', 'open': 0, 'high': 0, 'low': 0, 'close': 45.48, 'flag': 's', 'volume': 0}]\n",
      "[{'symbol': 'CSCO', 'exchange': 'BATS', 'name': 'Cisco Systems Inc', 'dayCode': '1', 'serverTimestamp': '2018-11-04T06:37:51-06:00', 'mode': 'i', 'lastPrice': 45.48, 'tradeTimestamp': '2018-11-01T00:00:00-05:00', 'netChange': 45.48, 'percentChange': 0, 'unitCode': '2', 'open': 0, 'high': 0, 'low': 0, 'close': 45.48, 'flag': 's', 'volume': 0}]\n",
      "adding CSCO\n",
      "ORCL\n",
      "Barchart OnDemand Client: https://marketdata.websol.barchart.com/\n",
      "[{'symbol': 'ORCL', 'exchange': 'BATS', 'name': 'Oracle Corp', 'dayCode': '1', 'serverTimestamp': '2018-11-04T08:46:57-06:00', 'mode': 'i', 'lastPrice': 48.83, 'tradeTimestamp': '2018-11-01T00:00:00-05:00', 'netChange': 48.83, 'percentChange': 0, 'unitCode': '2', 'open': 0, 'high': 0, 'low': 0, 'close': 48.83, 'flag': 's', 'volume': 0}]\n",
      "[{'symbol': 'ORCL', 'exchange': 'BATS', 'name': 'Oracle Corp', 'dayCode': '1', 'serverTimestamp': '2018-11-04T08:46:57-06:00', 'mode': 'i', 'lastPrice': 48.83, 'tradeTimestamp': '2018-11-01T00:00:00-05:00', 'netChange': 48.83, 'percentChange': 0, 'unitCode': '2', 'open': 0, 'high': 0, 'low': 0, 'close': 48.83, 'flag': 's', 'volume': 0}]\n",
      "adding ORCL\n",
      "QCOM\n",
      "Barchart OnDemand Client: https://marketdata.websol.barchart.com/\n",
      "[{'symbol': 'QCOM', 'exchange': 'BATS', 'name': 'Qualcomm Inc', 'dayCode': '1', 'serverTimestamp': '2018-11-04T05:15:50-06:00', 'mode': 'i', 'lastPrice': 63.33, 'tradeTimestamp': '2018-11-01T00:00:00-05:00', 'netChange': 63.33, 'percentChange': 0, 'unitCode': '2', 'open': 0, 'high': 0, 'low': 0, 'close': 63.33, 'flag': 's', 'volume': 0}]\n",
      "[{'symbol': 'QCOM', 'exchange': 'BATS', 'name': 'Qualcomm Inc', 'dayCode': '1', 'serverTimestamp': '2018-11-04T05:15:50-06:00', 'mode': 'i', 'lastPrice': 63.33, 'tradeTimestamp': '2018-11-01T00:00:00-05:00', 'netChange': 63.33, 'percentChange': 0, 'unitCode': '2', 'open': 0, 'high': 0, 'low': 0, 'close': 63.33, 'flag': 's', 'volume': 0}]\n",
      "adding QCOM\n",
      "FB\n",
      "Barchart OnDemand Client: https://marketdata.websol.barchart.com/\n",
      "[{'symbol': 'FB', 'exchange': 'BATS', 'name': 'Facebook Inc', 'dayCode': '1', 'serverTimestamp': '2018-11-04T05:20:48-06:00', 'mode': 'i', 'lastPrice': 150.35, 'tradeTimestamp': '2018-11-01T00:00:00-05:00', 'netChange': 150.35, 'percentChange': 0, 'unitCode': '2', 'open': 0, 'high': 0, 'low': 0, 'close': 150.35, 'flag': 's', 'volume': 0}]\n",
      "[{'symbol': 'FB', 'exchange': 'BATS', 'name': 'Facebook Inc', 'dayCode': '1', 'serverTimestamp': '2018-11-04T05:20:48-06:00', 'mode': 'i', 'lastPrice': 150.35, 'tradeTimestamp': '2018-11-01T00:00:00-05:00', 'netChange': 150.35, 'percentChange': 0, 'unitCode': '2', 'open': 0, 'high': 0, 'low': 0, 'close': 150.35, 'flag': 's', 'volume': 0}]\n",
      "adding FB\n",
      "IBM\n",
      "Barchart OnDemand Client: https://marketdata.websol.barchart.com/\n",
      "[{'symbol': 'IBM', 'exchange': 'BATS', 'name': 'International Business Machines', 'dayCode': '1', 'serverTimestamp': '2018-11-04T05:15:45-06:00', 'mode': 'i', 'lastPrice': 115.67, 'tradeTimestamp': '2018-11-01T00:00:00-05:00', 'netChange': 115.67, 'percentChange': 0, 'unitCode': '2', 'open': 0, 'high': 0, 'low': 0, 'close': 115.67, 'flag': 's', 'volume': 0}]\n",
      "[{'symbol': 'IBM', 'exchange': 'BATS', 'name': 'International Business Machines', 'dayCode': '1', 'serverTimestamp': '2018-11-04T05:15:45-06:00', 'mode': 'i', 'lastPrice': 115.67, 'tradeTimestamp': '2018-11-01T00:00:00-05:00', 'netChange': 115.67, 'percentChange': 0, 'unitCode': '2', 'open': 0, 'high': 0, 'low': 0, 'close': 115.67, 'flag': 's', 'volume': 0}]\n",
      "adding IBM\n"
     ]
    },
    {
     "ename": "KeyboardInterrupt",
     "evalue": "",
     "output_type": "error",
     "traceback": [
      "\u001b[0;31m---------------------------------------------------------------------------\u001b[0m",
      "\u001b[0;31mKeyboardInterrupt\u001b[0m                         Traceback (most recent call last)",
      "\u001b[0;32m<ipython-input-21-cf445feb0cfe>\u001b[0m in \u001b[0;36m<module>\u001b[0;34m()\u001b[0m\n\u001b[1;32m      8\u001b[0m \u001b[0;34m\u001b[0m\u001b[0m\n\u001b[1;32m      9\u001b[0m \u001b[0ms\u001b[0m\u001b[0;34m.\u001b[0m\u001b[0menter\u001b[0m\u001b[0;34m(\u001b[0m\u001b[0mdelay\u001b[0m\u001b[0;34m,\u001b[0m \u001b[0;36m1\u001b[0m\u001b[0;34m,\u001b[0m \u001b[0mmain\u001b[0m\u001b[0;34m,\u001b[0m \u001b[0;34m(\u001b[0m\u001b[0ms\u001b[0m\u001b[0;34m,\u001b[0m\u001b[0;34m)\u001b[0m\u001b[0;34m)\u001b[0m\u001b[0;34m\u001b[0m\u001b[0m\n\u001b[0;32m---> 10\u001b[0;31m \u001b[0ms\u001b[0m\u001b[0;34m.\u001b[0m\u001b[0mrun\u001b[0m\u001b[0;34m(\u001b[0m\u001b[0;34m)\u001b[0m\u001b[0;34m\u001b[0m\u001b[0m\n\u001b[0m",
      "\u001b[0;32m/anaconda3/lib/python3.6/sched.py\u001b[0m in \u001b[0;36mrun\u001b[0;34m(self, blocking)\u001b[0m\n\u001b[1;32m    150\u001b[0m                 \u001b[0;32mif\u001b[0m \u001b[0;32mnot\u001b[0m \u001b[0mblocking\u001b[0m\u001b[0;34m:\u001b[0m\u001b[0;34m\u001b[0m\u001b[0m\n\u001b[1;32m    151\u001b[0m                     \u001b[0;32mreturn\u001b[0m \u001b[0mtime\u001b[0m \u001b[0;34m-\u001b[0m \u001b[0mnow\u001b[0m\u001b[0;34m\u001b[0m\u001b[0m\n\u001b[0;32m--> 152\u001b[0;31m                 \u001b[0mdelayfunc\u001b[0m\u001b[0;34m(\u001b[0m\u001b[0mtime\u001b[0m \u001b[0;34m-\u001b[0m \u001b[0mnow\u001b[0m\u001b[0;34m)\u001b[0m\u001b[0;34m\u001b[0m\u001b[0m\n\u001b[0m\u001b[1;32m    153\u001b[0m             \u001b[0;32melse\u001b[0m\u001b[0;34m:\u001b[0m\u001b[0;34m\u001b[0m\u001b[0m\n\u001b[1;32m    154\u001b[0m                 \u001b[0maction\u001b[0m\u001b[0;34m(\u001b[0m\u001b[0;34m*\u001b[0m\u001b[0margument\u001b[0m\u001b[0;34m,\u001b[0m \u001b[0;34m**\u001b[0m\u001b[0mkwargs\u001b[0m\u001b[0;34m)\u001b[0m\u001b[0;34m\u001b[0m\u001b[0m\n",
      "\u001b[0;31mKeyboardInterrupt\u001b[0m: "
     ]
    }
   ],
   "source": [
    "s = sched.scheduler(time.time, time.sleep)\n",
    "delay = 60 #seconds\n",
    "\n",
    "def main(sc): \n",
    "    print(\"call again in 15 sec\")\n",
    "    sendDataToSheets()\n",
    "    s.enter(delay, 1, main, (sc,))\n",
    "\n",
    "s.enter(delay, 1, main, (s,))\n",
    "s.run()"
   ]
  },
  {
   "cell_type": "code",
   "execution_count": null,
   "metadata": {},
   "outputs": [],
   "source": [
    "now = datetime.now()\n"
   ]
  },
  {
   "cell_type": "code",
   "execution_count": null,
   "metadata": {},
   "outputs": [],
   "source": []
  },
  {
   "cell_type": "code",
   "execution_count": null,
   "metadata": {},
   "outputs": [],
   "source": []
  },
  {
   "cell_type": "code",
   "execution_count": null,
   "metadata": {},
   "outputs": [],
   "source": []
  }
 ],
 "metadata": {
  "kernelspec": {
   "display_name": "Python 3",
   "language": "python",
   "name": "python3"
  },
  "language_info": {
   "codemirror_mode": {
    "name": "ipython",
    "version": 3
   },
   "file_extension": ".py",
   "mimetype": "text/x-python",
   "name": "python",
   "nbconvert_exporter": "python",
   "pygments_lexer": "ipython3",
   "version": "3.6.4"
  }
 },
 "nbformat": 4,
 "nbformat_minor": 2
}
