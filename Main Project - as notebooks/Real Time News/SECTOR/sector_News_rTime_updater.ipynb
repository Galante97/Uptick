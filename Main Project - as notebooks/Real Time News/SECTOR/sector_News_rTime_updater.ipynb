{
 "cells": [
  {
   "cell_type": "code",
   "execution_count": null,
   "metadata": {},
   "outputs": [],
   "source": [
    "#updates APPL_new_data sheet"
   ]
  },
  {
   "cell_type": "code",
   "execution_count": 1,
   "metadata": {},
   "outputs": [],
   "source": [
    "#GENERAL IMPORTS #\n",
    "import time\n",
    "import datetime as dt\n",
    "\n",
    "\n",
    "import pandas as pd\n",
    "from pandas.tseries.offsets import BDay\n",
    "import numpy as np\n",
    "import datetime as dt\n",
    "from copy import copy\n",
    "import warnings\n",
    "\n",
    "warnings.filterwarnings('ignore',category=pd.io.pytables.PerformanceWarning)\n"
   ]
  },
  {
   "cell_type": "code",
   "execution_count": 2,
   "metadata": {},
   "outputs": [],
   "source": [
    "import gspread\n",
    "from oauth2client.service_account import ServiceAccountCredentials\n",
    "\n",
    "# use creds to create a client to interact with the Google Drive API\n",
    "scope = ['https://spreadsheets.google.com/feeds', \n",
    "            'https://www.googleapis.com/auth/drive']\n",
    "creds = ServiceAccountCredentials.from_json_keyfile_name('client_secret.json', scope)\n",
    "client = gspread.authorize(creds)\n",
    "\n",
    "# Find a workbook by name and open the first sheet\n",
    "# Make sure you use the right name here.\n",
    "sector_news_rTime = client.open(\"sector_news_rTime\").sheet1"
   ]
  },
  {
   "cell_type": "code",
   "execution_count": 3,
   "metadata": {},
   "outputs": [],
   "source": [
    "#import news module\n",
    "import yahoo as news"
   ]
  },
  {
   "cell_type": "code",
   "execution_count": 4,
   "metadata": {},
   "outputs": [
    {
     "name": "stderr",
     "output_type": "stream",
     "text": [
      "100%|██████████| 50/50 [00:10<00:00,  2.54it/s]\n"
     ]
    },
    {
     "name": "stdout",
     "output_type": "stream",
     "text": [
      "Successfully Retreived: 40 Industry News articles...\n",
      "40\n",
      "adding row...\n",
      "adding row...\n",
      "adding row...\n",
      "adding row...\n",
      "adding row...\n",
      "adding row...\n",
      "adding row...\n",
      "adding row...\n",
      "adding row...\n",
      "adding row...\n",
      "adding row...\n",
      "adding row...\n",
      "adding row...\n",
      "adding row...\n",
      "adding row...\n",
      "adding row...\n",
      "adding row...\n",
      "adding row...\n",
      "adding row...\n",
      "adding row...\n",
      "adding row...\n",
      "adding row...\n",
      "adding row...\n",
      "adding row...\n",
      "adding row...\n",
      "adding row...\n",
      "adding row...\n",
      "adding row...\n",
      "adding row...\n",
      "adding row...\n",
      "adding row...\n",
      "adding row...\n",
      "adding row...\n",
      "adding row...\n",
      "adding row...\n",
      "adding row...\n",
      "adding row...\n",
      "adding row...\n",
      "adding row...\n",
      "adding row...\n"
     ]
    }
   ],
   "source": [
    "def update_sector_news_data():\n",
    "    newsArticles = news.get_industry_news(\"AAPL\")\n",
    "    print(len(newsArticles)) \n",
    "\n",
    "    for i in range(len(newsArticles)): \n",
    "        time.sleep(0.21)\n",
    "        print(\"adding row...\")\n",
    "        sector_news_rTime.append_row([str(dt.datetime.now()), str(dt.datetime.now().time()), str(dt.datetime.now().date()), newsArticles[i]['title'], newsArticles[i]['summary'],newsArticles[i]['content'], newsArticles[i]['link']])\n",
    "        \n",
    "update_sector_news_data()"
   ]
  },
  {
   "cell_type": "code",
   "execution_count": null,
   "metadata": {},
   "outputs": [],
   "source": [
    "\n"
   ]
  },
  {
   "cell_type": "code",
   "execution_count": null,
   "metadata": {},
   "outputs": [],
   "source": []
  }
 ],
 "metadata": {
  "kernelspec": {
   "display_name": "Python 3",
   "language": "python",
   "name": "python3"
  },
  "language_info": {
   "codemirror_mode": {
    "name": "ipython",
    "version": 3
   },
   "file_extension": ".py",
   "mimetype": "text/x-python",
   "name": "python",
   "nbconvert_exporter": "python",
   "pygments_lexer": "ipython3",
   "version": "3.6.4"
  }
 },
 "nbformat": 4,
 "nbformat_minor": 2
}
