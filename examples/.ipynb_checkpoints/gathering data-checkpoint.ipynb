{
 "cells": [
  {
   "cell_type": "code",
   "execution_count": null,
   "metadata": {},
   "outputs": [],
   "source": [
    "import ondemand\n",
    "\n",
    "od = ondemand.OnDemandClient(api_key='0adbf00b462c1acca954a43d94279b92')\n",
    "\n",
    "# or if you are using a free sandbox API\n",
    "\n",
    "od = ondemand.OnDemandClient(api_key='0adbf00b462c1acca954a43d94279b92', end_point='https://marketdata.websol.barchart.com/')\n",
    "\n",
    "# get quote data for Apple and Microsoft\n",
    "quotes = od.quote('AAPL,MSFT')['results']\n",
    "\n",
    "for q in quotes:\n",
    "    print('Symbol: %s, Last Price:\n",
    "          \n",
    "# get 1 minutes bars for Apple\n",
    "resp = od.history('AAPL', 'minutes', maxRecords=50, interval=1)\n",
    "\n",
    "\n",
    "# generic request by API name\n",
    "resp = od.get('getQuote', symbols='AAPL,EXC', fields='bid,ask')\n"
   ]
  },
  {
   "cell_type": "code",
   "execution_count": null,
   "metadata": {},
   "outputs": [],
   "source": [
    "import json\n",
    "import pandas as pd\n",
    "from pandas.io.json import json_normalize\n",
    "import matplotlib.pyplot as plt\n",
    "\n",
    "#od.history('AAPL', 'minutes', startDate='20180101', maxRecords='1', interval='60', order='asc', sessionFilter='EFK', splits='true', dividends='true', volume='sum', nearby='1', jerq='true', exchange='NYSE,AMEX,NASDAQ', backAdjust='false', daysToExpiration='1', contractRoll='expiration')\n",
    "\n",
    "data = od.get('getHistory', symbol='AAPL',type='minutes', interval='1', startDate=20180905, endDate=20180906)\n",
    "\n",
    "\n",
    "normalizedData = json_normalize(data['results'])\n",
    "\n",
    "pricePerTime = normalizedData['open']\n",
    "timeStamp = normalizedData['timestamp']\n",
    "\n",
    "fig = plt.figure(figsize=(7,5))\n",
    "ax = plt.axes()\n",
    "ax.plot(timeStamp,pricePerTime)\n",
    "#plt.ylim(225, 230)\n",
    "plt.show()\n",
    "print(normalizedData)"
   ]
  },
  {
   "cell_type": "code",
   "execution_count": null,
   "metadata": {},
   "outputs": [],
   "source": []
  }
 ],
 "metadata": {
  "kernelspec": {
   "display_name": "Python 3",
   "language": "python",
   "name": "python3"
  },
  "language_info": {
   "codemirror_mode": {
    "name": "ipython",
    "version": 3
   },
   "file_extension": ".py",
   "mimetype": "text/x-python",
   "name": "python",
   "nbconvert_exporter": "python",
   "pygments_lexer": "ipython3",
   "version": "3.6.4"
  }
 },
 "nbformat": 4,
 "nbformat_minor": 2
}
