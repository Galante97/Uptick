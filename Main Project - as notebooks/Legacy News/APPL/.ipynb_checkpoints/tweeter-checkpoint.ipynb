{
 "cells": [
  {
   "cell_type": "code",
   "execution_count": null,
   "metadata": {},
   "outputs": [],
   "source": [
    "import tweepy\n",
    "import csv\n",
    "import pandas as pd\n",
    "\n",
    "####input your credentials here\n",
    "consumer_key = 'r1PWmElzBiEMA2CGVSToqeau3'\n",
    "consumer_secret = 'vfidRAc3xn4hxnMMeUC0nNoDOhzmc5pvEmu93vTTWT88aam2aS'\n",
    "access_token = '1053031421319794688-LrvfrNzNwRBxDOH2Qka16dBlg2mupu'\n",
    "access_token_secret = '99Agon5uWaFzpH96wd6OXzjqihZ3ugKWYCavkCBoJoFSY'\n",
    "\n",
    "auth = tweepy.OAuthHandler(consumer_key, consumer_secret)\n",
    "auth.set_access_token(access_token, access_token_secret)\n",
    "api = tweepy.API(auth,wait_on_rate_limit=True)"
   ]
  },
  {
   "cell_type": "code",
   "execution_count": null,
   "metadata": {},
   "outputs": [],
   "source": [
    "\n",
    "# Open/Create a file to append data\n",
    "csvFile = open('microsoft.csv', 'a')\n",
    "#Use csv Writer\n",
    "csvWriter = csv.writer(csvFile)\n",
    "\n",
    "x = []\n",
    "for tweet in tweepy.Cursor(api.search,q=\"#AAPL\",count=1,\n",
    "                           lang=\"en\",\n",
    "                           since=\"2018-11-07\").items():\n",
    "    print(tweet.created_at, tweet.text.encode('utf-8'))\n",
    "    #print((tweet))\n",
    "    x.append(tweet)\n",
    "    #csvWriter.writerow([tweet.created_at, tweet.text.encode('utf-8')])\n"
   ]
  },
  {
   "cell_type": "code",
   "execution_count": null,
   "metadata": {},
   "outputs": [],
   "source": [
    "print(x)"
   ]
  },
  {
   "cell_type": "code",
   "execution_count": null,
   "metadata": {},
   "outputs": [],
   "source": []
  }
 ],
 "metadata": {
  "kernelspec": {
   "display_name": "Python 3",
   "language": "python",
   "name": "python3"
  },
  "language_info": {
   "codemirror_mode": {
    "name": "ipython",
    "version": 3
   },
   "file_extension": ".py",
   "mimetype": "text/x-python",
   "name": "python",
   "nbconvert_exporter": "python",
   "pygments_lexer": "ipython3",
   "version": "3.6.4"
  }
 },
 "nbformat": 4,
 "nbformat_minor": 2
}
