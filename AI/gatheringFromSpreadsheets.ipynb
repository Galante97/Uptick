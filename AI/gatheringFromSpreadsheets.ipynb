{
 "cells": [
  {
   "cell_type": "code",
   "execution_count": 2,
   "metadata": {},
   "outputs": [],
   "source": [
    "# IMPORTS #\n",
    "import pandas as pd\n",
    "import google_sheets_api as sheet"
   ]
  },
  {
   "cell_type": "code",
   "execution_count": null,
   "metadata": {},
   "outputs": [],
   "source": []
  },
  {
   "cell_type": "code",
   "execution_count": null,
   "metadata": {},
   "outputs": [],
   "source": []
  },
  {
   "cell_type": "code",
   "execution_count": 3,
   "metadata": {},
   "outputs": [],
   "source": [
    "AAPL_data = pd.DataFrame()\n",
    "\n",
    "def getAllSheets():\n",
    "    sheet_aapl = sheet.AAPL_data.get_all_values() \n",
    "    sheet_amzn = sheet.AMZN_data.get_all_values()\n",
    "    sheet_csco = sheet.CSCO_data.get_all_values()\n",
    "    sheet_fb = sheet.FB_data.get_all_values()\n",
    "    sheet_googl = sheet.GOOGL_data.get_all_values()\n",
    "    sheet_IBM = sheet.IBM_data.get_all_values()\n",
    "    sheet_intc = sheet.INTC_data.get_all_values()\n",
    "    sheet_msft = sheet.MSFT_data.get_all_values()\n",
    "    sheet_orcl = sheet.ORCL_data.get_all_values()\n",
    "    sheet_qcom = sheet.QCOM_data.get_all_values()\n",
    "    sheet_tsla = sheet.TSLA_data.get_all_values()\n",
    "    sheet_vz = sheet.VZ_data.get_all_values()\n",
    "\n",
    "    sheet_aapl = sheet_aapl[1:] #remove column names title\n",
    "    sheet_amzn = sheet_amzn[1:] #remove column names title\n",
    "    sheet_csco = sheet_csco[1:] #remove column names title\n",
    "    sheet_fb = sheet_fb[1:] #remove column names title\n",
    "    sheet_googl = sheet_googl[1:] #remove column names title\n",
    "    sheet_intc = sheet_intc[1:] #remove column names title\n",
    "    sheet_msft = sheet_msft[1:] #remove column names title\n",
    "    sheet_csco = sheet_csco[1:] #remove column names title\n",
    "    sheet_orcl = sheet_orcl[1:] #remove column names title\n",
    "    sheet_qcom = sheet_qcom[1:] #remove column names title\n",
    "    sheet_tsla = sheet_tsla[1:] #remove column names title\n",
    "    sheet_vz = sheet_vz[1:] #remove column names title\n",
    "\n",
    "\n",
    "    \n",
    "    AAPL_data = pd.DataFrame(sheet_aapl, columns = ['timestamp','symbol','tradingDay','open','high','low','close','volume']) \n",
    "    AMZN_data = pd.DataFrame(sheet_amzn, columns = ['timestamp','symbol','tradingDay','open','high','low','close','volume']) \n",
    "    CSCO_data = pd.DataFrame(sheet_csco, columns = ['timestamp','symbol','tradingDay','open','high','low','close','volume']) \n",
    "    FB_data = pd.DataFrame(sheet_fb, columns = ['timestamp','symbol','tradingDay','open','high','low','close','volume']) \n",
    "    GOOGL_data = pd.DataFrame(sheet_googl, columns = ['timestamp','symbol','tradingDay','open','high','low','close','volume']) \n",
    "    INTC_data = pd.DataFrame(sheet_intc, columns = ['timestamp','symbol','tradingDay','open','high','low','close','volume']) \n",
    "    MSFT_data = pd.DataFrame(sheet_msft, columns = ['timestamp','symbol','tradingDay','open','high','low','close','volume']) \n",
    "    CSCO_data = pd.DataFrame(sheet_csco, columns = ['timestamp','symbol','tradingDay','open','high','low','close','volume']) \n",
    "    ORCL_data = pd.DataFrame(sheet_orcl, columns = ['timestamp','symbol','tradingDay','open','high','low','close','volume']) \n",
    "    QCOM_data = pd.DataFrame(sheet_qcom, columns = ['timestamp','symbol','tradingDay','open','high','low','close','volume']) \n",
    "    TSLA_data = pd.DataFrame(sheet_tsla, columns = ['timestamp','symbol','tradingDay','open','high','low','close','volume']) \n",
    "    VZ_data = pd.DataFrame(sheet_vz, columns = ['timestamp','symbol','tradingDay','open','high','low','close','volume']) \n",
    "\n",
    "\n",
    "    return [AAPL_data, AMZN_data, CSCO_data, FB_data, GOOGL_data, INTC_data, MSFT_data, CSCO_data, ORCL_data, QCOM_data, TSLA_data, VZ_data]\n",
    "\n",
    "    \n",
    "all_stock_data = getAllSheets()\n"
   ]
  },
  {
   "cell_type": "code",
   "execution_count": null,
   "metadata": {},
   "outputs": [],
   "source": []
  },
  {
   "cell_type": "code",
   "execution_count": null,
   "metadata": {},
   "outputs": [],
   "source": []
  }
 ],
 "metadata": {
  "kernelspec": {
   "display_name": "Python 3",
   "language": "python",
   "name": "python3"
  },
  "language_info": {
   "codemirror_mode": {
    "name": "ipython",
    "version": 3
   },
   "file_extension": ".py",
   "mimetype": "text/x-python",
   "name": "python",
   "nbconvert_exporter": "python",
   "pygments_lexer": "ipython3",
   "version": "3.7.1"
  }
 },
 "nbformat": 4,
 "nbformat_minor": 2
}
