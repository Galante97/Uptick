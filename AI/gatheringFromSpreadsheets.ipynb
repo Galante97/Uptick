{
 "cells": [
  {
   "cell_type": "code",
   "execution_count": null,
   "metadata": {},
   "outputs": [],
   "source": [
    "# IMPORTS #\n",
    "import pandas as pd\n",
    "import google_sheets_api as sheet"
   ]
  },
  {
   "cell_type": "code",
   "execution_count": null,
   "metadata": {},
   "outputs": [],
   "source": []
  },
  {
   "cell_type": "code",
   "execution_count": null,
   "metadata": {},
   "outputs": [],
   "source": []
  },
  {
   "cell_type": "code",
   "execution_count": null,
   "metadata": {},
   "outputs": [],
   "source": [
    "AAPL_data = pd.DataFrame()\n",
    "\n",
    "def getAllSheets():\n",
    "    sheet_aapl = sheet.AAPL_data.get_all_values() \n",
    "    sheet_amzn = sheet.AMZN_data.get_all_values()\n",
    "    sheet_csco = sheet.CSCO_data.get_all_values()\n",
    "    sheet_fb = sheet.FB_data.get_all_values()\n",
    "    sheet_googl = sheet.GOOGL_data.get_all_values()\n",
    "    sheet_IBM = sheet.IBM_data.get_all_values()\n",
    "    sheet_intc = sheet.INTC_data.get_all_values()\n",
    "    sheet_msft = sheet.MSFT_data.get_all_values()\n",
    "    sheet_orcl = sheet.ORCL_data.get_all_values()\n",
    "    sheet_qcom = sheet.QCOM_data.get_all_values()\n",
    "    sheet_tsla = sheet.TSLA_data.get_all_values()\n",
    "    sheet_vz = sheet.VZ_data.get_all_values()\n",
    "\n",
    "    sheet_aapl = sheet_aapl[1:] #remove column names title\n",
    "    sheet_amzn = sheet_amzn[1:] #remove column names title\n",
    "    sheet_csco = sheet_csco[1:] #remove column names title\n",
    "    sheet_fb = sheet_fb[1:] #remove column names title\n",
    "    sheet_googl = sheet_googl[1:] #remove column names title\n",
    "    sheet_intc = sheet_intc[1:] #remove column names title\n",
    "    sheet_msft = sheet_msft[1:] #remove column names title\n",
    "    sheet_csco = sheet_csco[1:] #remove column names title\n",
    "    sheet_orcl = sheet_orcl[1:] #remove column names title\n",
    "    sheet_qcom = sheet_qcom[1:] #remove column names title\n",
    "    sheet_tsla = sheet_tsla[1:] #remove column names title\n",
    "    sheet_vz = sheet_vz[1:] #remove column names title\n",
    "\n",
    "\n",
    "    \n",
    "    AAPL_data = pd.DataFrame(sheet_aapl, columns = ['timestamp','symbol','tradingDay','open','high','low','close','volume']) \n",
    "    AMZN_data = pd.DataFrame(sheet_amzn, columns = ['timestamp','symbol','tradingDay','open','high','low','close','volume']) \n",
    "    CSCO_data = pd.DataFrame(sheet_csco, columns = ['timestamp','symbol','tradingDay','open','high','low','close','volume']) \n",
    "    FB_data = pd.DataFrame(sheet_fb, columns = ['timestamp','symbol','tradingDay','open','high','low','close','volume']) \n",
    "    GOOGL_data = pd.DataFrame(sheet_googl, columns = ['timestamp','symbol','tradingDay','open','high','low','close','volume']) \n",
    "    INTC_data = pd.DataFrame(sheet_intc, columns = ['timestamp','symbol','tradingDay','open','high','low','close','volume']) \n",
    "    MSFT_data = pd.DataFrame(sheet_msft, columns = ['timestamp','symbol','tradingDay','open','high','low','close','volume']) \n",
    "    CSCO_data = pd.DataFrame(sheet_csco, columns = ['timestamp','symbol','tradingDay','open','high','low','close','volume']) \n",
    "    ORCL_data = pd.DataFrame(sheet_orcl, columns = ['timestamp','symbol','tradingDay','open','high','low','close','volume']) \n",
    "    QCOM_data = pd.DataFrame(sheet_qcom, columns = ['timestamp','symbol','tradingDay','open','high','low','close','volume']) \n",
    "    TSLA_data = pd.DataFrame(sheet_tsla, columns = ['timestamp','symbol','tradingDay','open','high','low','close','volume']) \n",
    "    VZ_data = pd.DataFrame(sheet_vz, columns = ['timestamp','symbol','tradingDay','open','high','low','close','volume']) \n",
    "\n",
    "\n",
    "    return [AAPL_data, AMZN_data, CSCO_data, FB_data, GOOGL_data, INTC_data, MSFT_data, CSCO_data, ORCL_data, QCOM_data, TSLA_data, VZ_data]\n",
    "\n",
    "    \n",
    "all_stock_data = getAllSheets()\n"
   ]
  },
  {
   "cell_type": "markdown",
   "metadata": {},
   "source": [
    "# Reformat Server Data to Fit A.I. Model:"
   ]
  },
  {
   "cell_type": "code",
   "execution_count": null,
   "metadata": {},
   "outputs": [],
   "source": [
    "df_AAPL = all_stock_data[0] #AAPL\n",
    "df_AMZN = all_stock_data[1] #AMZN\n",
    "df_CSCO = all_stock_data[2] #CSCO\n",
    "df_FB = all_stock_data[3] #FB\n",
    "df_GOOGL = all_stock_data[4] #GOOGL\n",
    "df_INTC = all_stock_data[5] #INTC\n",
    "df_MSFT = all_stock_data[6] #MSFT\n",
    "df_IBM = all_stock_data[7] #IBM\n",
    "df_ORCL = all_stock_data[8] #ORCL\n",
    "df_QCOM = all_stock_data[9] #QCOM\n",
    "df_TLSA = all_stock_data[10] #TSLA\n",
    "df_VZ = all_stock_data[11] #VZ\n",
    "\n",
    "all_stock_dataframes = [df_AAPL, df_AMZN, df_CSCO, df_FB, df_GOOGL, df_INTC, df_MSFT, df_IBM, df_ORCL, df_QCOM, df_TLSA, df_VZ]"
   ]
  },
  {
   "cell_type": "code",
   "execution_count": null,
   "metadata": {},
   "outputs": [],
   "source": [
    "count = 0\n",
    "\n",
    "for df in all_stock_dataframes:    \n",
    "    df['open'] = df['open'].astype(float)\n",
    "    df['high'] = df['high'].astype(float)\n",
    "    df['low'] = df['low'].astype(float)\n",
    "    df['close'] = df['close'].astype(float)\n",
    "    df['volume'] = df['volume'].astype(int)\n",
    "    for index, row in df.iterrows():    \n",
    "        if row['timestamp'].endswith('-05:00'):\n",
    "            df['timestamp'].iloc[index] = row['timestamp'][:-6]\n",
    "               \n",
    "    df.index = df['timestamp']\n",
    "    print(count, \"of \", len(all_stock_dataframes), \"stock dataframes successfully reformatted\")\n",
    "    count+=1\n",
    "\n",
    "print(\"All data successfully reformatted!\")"
   ]
  },
  {
   "cell_type": "code",
   "execution_count": null,
   "metadata": {},
   "outputs": [],
   "source": []
  },
  {
   "cell_type": "code",
   "execution_count": null,
   "metadata": {},
   "outputs": [],
   "source": []
  },
  {
   "cell_type": "code",
   "execution_count": null,
   "metadata": {},
   "outputs": [],
   "source": [
    "\n",
    "    \n",
    "    \n"
   ]
  },
  {
   "cell_type": "code",
   "execution_count": null,
   "metadata": {},
   "outputs": [],
   "source": []
  },
  {
   "cell_type": "code",
   "execution_count": null,
   "metadata": {},
   "outputs": [],
   "source": []
  }
 ],
 "metadata": {
  "kernelspec": {
   "display_name": "Python 3",
   "language": "python",
   "name": "python3"
  },
  "language_info": {
   "codemirror_mode": {
    "name": "ipython",
    "version": 3
   },
   "file_extension": ".py",
   "mimetype": "text/x-python",
   "name": "python",
   "nbconvert_exporter": "python",
   "pygments_lexer": "ipython3",
   "version": "3.7.1"
  }
 },
 "nbformat": 4,
 "nbformat_minor": 2
}
