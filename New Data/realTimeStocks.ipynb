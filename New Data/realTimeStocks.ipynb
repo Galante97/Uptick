{
 "cells": [
  {
   "cell_type": "code",
   "execution_count": null,
   "metadata": {},
   "outputs": [],
   "source": [
    "#Continously gets real time stock data and updates every 10 minutes through the day"
   ]
  },
  {
   "cell_type": "code",
   "execution_count": 192,
   "metadata": {},
   "outputs": [],
   "source": [
    "# IMPORTS #\n",
    "import time\n",
    "t0 = time.clock()\n",
    "\n",
    "import pandas as pd\n",
    "from pandas.tseries.offsets import BDay\n",
    "import numpy as np\n",
    "import datetime as dt\n",
    "import sched\n",
    "from copy import copy\n",
    "import warnings\n",
    "\n",
    "warnings.filterwarnings('ignore',category=pd.io.pytables.PerformanceWarning)\n"
   ]
  },
  {
   "cell_type": "code",
   "execution_count": 182,
   "metadata": {},
   "outputs": [
    {
     "name": "stdout",
     "output_type": "stream",
     "text": [
      "[{'STOCKS': 'AAPL'}, {'STOCKS': 'MSFT'}, {'STOCKS': 'AMZN'}, {'STOCKS': 'VZ'}, {'STOCKS': 'TSLA'}]\n"
     ]
    }
   ],
   "source": [
    "import gspread\n",
    "from oauth2client.service_account import ServiceAccountCredentials\n",
    "\n",
    "# use creds to create a client to interact with the Google Drive API\n",
    "scope = ['https://spreadsheets.google.com/feeds', \n",
    "            'https://www.googleapis.com/auth/drive']\n",
    "creds = ServiceAccountCredentials.from_json_keyfile_name('client_secret.json', scope)\n",
    "client = gspread.authorize(creds)\n",
    "\n",
    "# Find a workbook by name and open the first sheet\n",
    "# Make sure you use the right name here.\n",
    "\n",
    "stockList = client.open(\"STOCKS LIST\").sheet1 #stock list\n",
    "\n",
    "#real time sheets\n",
    "APPL_rTime = client.open(\"AAPL_rTime\").sheet1\n",
    "TSLA_rTime = client.open(\"TSLA_rTime\").sheet1\n",
    "MSFT_rTime = client.open(\"MSFT_rTime\").sheet1\n",
    "VZ_rTime = client.open(\"VZ_rTime\").sheet1\n",
    "AMZN_rTime = client.open(\"AMZN_rTime\").sheet1\n",
    "\n",
    "#legacy sheets\n",
    "AAPL_data = client.open(\"AAPL_data\").sheet1  #legacy\n",
    "VZ_data = client.open(\"VZ_data\").sheet1 #legacy\n",
    "AMZN_data = client.open(\"AMZN_data\").sheet1 #legacy\n",
    "MSFT_data = client.open(\"MSFT_data\").sheet1 #legacy\n",
    "TSLA_data = client.open(\"TSLA_data\").sheet1 #legacy\n",
    "\n",
    "# Extract and print all of the values\n",
    "list_of_hashes = stockList.get_all_records()\n",
    "print(list_of_hashes)\n",
    "#setUpSheetsClient()"
   ]
  },
  {
   "cell_type": "code",
   "execution_count": 183,
   "metadata": {},
   "outputs": [],
   "source": [
    "# ================================================================== #\n",
    "# filepath management\n",
    "\n",
    "project_dir = r'/Users/jamesgalante/Documents/College/Semester 7/CPEG498/Uptick/Legacy Data/get past month data/' \n",
    "price_path = project_dir + r'Symbols/'\n",
    "apikey = '0adbf00b462c1acca954a43d94279b92'\n"
   ]
  },
  {
   "cell_type": "code",
   "execution_count": 184,
   "metadata": {},
   "outputs": [],
   "source": [
    "# ================================================================== #\n",
    "# datetime management\n",
    "\n",
    "d = dt.date.today()\n",
    "# ---------- Days ---------- \n",
    "l10 = d - 10 * BDay()\n",
    "l21 = d - 21 * BDay()\n",
    "l63 = d - 63 * BDay()\n",
    "l252 = d - 252 * BDay()\n",
    "# ---------- Years ---------- \n",
    "l252_x2 = d - 252 * 2 * BDay() \n",
    "l252_x3 = d - 252 * 3 * BDay() \n",
    "l252_x5 = d - 252 * 5 * BDay()\n",
    "l252_x7 = d - 252 * 7 * BDay() \n",
    "l252_x10 = d - 252 * 10 * BDay() \n",
    "l252_x20 = d - 252 * 20 * BDay() \n",
    "l252_x25 = d - 252 * 25 * BDay()\n"
   ]
  },
  {
   "cell_type": "code",
   "execution_count": 185,
   "metadata": {},
   "outputs": [],
   "source": [
    "##points to our google sheet \"STOCKS LIST\" gets the values and makes it a pandas dataframe to manipulate\n",
    "def getStockList():\n",
    "    sheetsList = stockList.get_all_values()\n",
    "    sheetsList = sheetsList[1:] #remove \"STOCKS\" title\n",
    "    ##print(sheetsList)\n",
    "    sheetsList = flatten(sheetsList)\n",
    "    #print(sheetsList)\n",
    "    #create new df \n",
    "    df = pd.DataFrame({'STOCKS':sheetsList})\n",
    "    return df\n"
   ]
  },
  {
   "cell_type": "code",
   "execution_count": 186,
   "metadata": {},
   "outputs": [],
   "source": [
    "##takes a 2d list and flattens it to 1d\n",
    "def flatten(input):\n",
    "    new_list = []\n",
    "    for i in input:\n",
    "        for j in i:\n",
    "            new_list.append(j)\n",
    "    return new_list"
   ]
  },
  {
   "cell_type": "code",
   "execution_count": 187,
   "metadata": {},
   "outputs": [
    {
     "name": "stdout",
     "output_type": "stream",
     "text": [
      "  STOCKS\n",
      "0   AAPL\n",
      "1   MSFT\n",
      "2   AMZN\n",
      "3     VZ\n",
      "4   TSLA\n"
     ]
    }
   ],
   "source": [
    "#setting list of stock symbols to var syms\n",
    "syms = getStockList() #dataframe of the stocks we are getting data for\n",
    "print(syms)"
   ]
  },
  {
   "cell_type": "code",
   "execution_count": 188,
   "metadata": {},
   "outputs": [],
   "source": [
    "#BARCHART API\n",
    "def construct_barChart_url(sym, api_key=apikey):\n",
    "    '''Function to construct barchart api url'''\n",
    "    \n",
    "    url = 'http://marketdata.websol.barchart.com/getQuote.csv?' +\\\n",
    "            'key={}&symbols='.format(api_key, sym)\n",
    "    return url"
   ]
  },
  {
   "cell_type": "code",
   "execution_count": 189,
   "metadata": {},
   "outputs": [
    {
     "name": "stdout",
     "output_type": "stream",
     "text": [
      "Barchart OnDemand Client: https://marketdata.websol.barchart.com/\n",
      "[{'symbol': 'AAPL', 'exchange': 'BATS', 'name': 'Apple Inc', 'dayCode': 'M', 'serverTimestamp': '2018-10-23T14:36:32-05:00', 'mode': 'i', 'lastPrice': 222.79, 'tradeTimestamp': '2018-10-23T15:21:31-05:00', 'netChange': 2.14, 'percentChange': 0.97, 'unitCode': '2', 'open': 217.7, 'high': 223.01, 'low': 214.71, 'close': 0, 'flag': '', 'volume': 2009767}]\n"
     ]
    },
    {
     "data": {
      "text/plain": [
       "[{'close': 0,\n",
       "  'dayCode': 'M',\n",
       "  'exchange': 'BATS',\n",
       "  'flag': '',\n",
       "  'high': 223.01,\n",
       "  'lastPrice': 222.79,\n",
       "  'low': 214.71,\n",
       "  'mode': 'i',\n",
       "  'name': 'Apple Inc',\n",
       "  'netChange': 2.14,\n",
       "  'open': 217.7,\n",
       "  'percentChange': 0.97,\n",
       "  'serverTimestamp': '2018-10-23T14:36:32-05:00',\n",
       "  'symbol': 'AAPL',\n",
       "  'tradeTimestamp': '2018-10-23T15:21:31-05:00',\n",
       "  'unitCode': '2',\n",
       "  'volume': 2009767}]"
      ]
     },
     "execution_count": 189,
     "metadata": {},
     "output_type": "execute_result"
    }
   ],
   "source": [
    "import ondemand\n",
    "# get quote data for Apple and Microsoft\n",
    "def getStockLiveData(stock):\n",
    "    od = ondemand.OnDemandClient(api_key=apikey, end_point='https://marketdata.websol.barchart.com/')\n",
    "    quote = od.quote(stock)['results']\n",
    "    print(quote)\n",
    "    return (quote)\n",
    "\n",
    "getStockLiveData('AAPL')"
   ]
  },
  {
   "cell_type": "code",
   "execution_count": 190,
   "metadata": {},
   "outputs": [],
   "source": [
    "def sendDataToSheets():\n",
    "    stocks = syms['STOCKS'].values.tolist()\n",
    "    for s in stocks:\n",
    "        time.sleep(0.21)\n",
    "        print(s)\n",
    "        stockData = getStockLiveData(s)\n",
    "        print(stockData)\n",
    "\n",
    "        timestamp = str(dt.datetime.now().time())\n",
    "\n",
    "        if(s == 'AAPL'):\n",
    "            print(\"adding AAPL\")\n",
    "            APPL_rTime.append_row([timestamp, stockData[0]['symbol'], str(dt.date.today()), stockData[0]['lastPrice'], stockData[0]['open'], stockData[0]['high'], stockData[0]['low'], stockData[0]['netChange'], stockData[0]['volume']])    \n",
    "        elif (s == 'VZ'):\n",
    "            print(\"adding VZ\")\n",
    "            VZ_rTime.append_row([timestamp, stockData[0]['symbol'], str(dt.date.today()), stockData[0]['lastPrice'], stockData[0]['open'], stockData[0]['high'], stockData[0]['low'], stockData[0]['netChange'], stockData[0]['volume']])    \n",
    "        elif (s == 'TSLA'):\n",
    "            print(\"adding TSLA\")\n",
    "            TSLA_rTime.append_row([timestamp, stockData[0]['symbol'], str(dt.date.today()), stockData[0]['lastPrice'], stockData[0]['open'], stockData[0]['high'], stockData[0]['low'], stockData[0]['netChange'], stockData[0]['volume']])    \n",
    "        elif (s == 'AMZN'):\n",
    "            print(\"adding AMZN\")\n",
    "            AMZN_rTime.append_row([timestamp, stockData[0]['symbol'], str(dt.date.today()), stockData[0]['lastPrice'], stockData[0]['open'], stockData[0]['high'], stockData[0]['low'], stockData[0]['netChange'], stockData[0]['volume']])    \n",
    "        elif (s == 'MSFT'):\n",
    "            print(\"adding MSFT\")\n",
    "            MSFT_rTime.append_row([timestamp, stockData[0]['symbol'], str(dt.date.today()), stockData[0]['lastPrice'], stockData[0]['open'], stockData[0]['high'], stockData[0]['low'], stockData[0]['netChange'], stockData[0]['volume']])    \n"
   ]
  },
  {
   "cell_type": "code",
   "execution_count": null,
   "metadata": {},
   "outputs": [],
   "source": [
    "s = sched.scheduler(time.time, time.sleep)\n",
    "delay = 60 #seconds\n",
    "\n",
    "def main(sc): \n",
    "    print(\"call again in 15 sec\")\n",
    "    sendDataToSheets()\n",
    "    s.enter(delay, 1, main, (sc,))\n",
    "\n",
    "s.enter(delay, 1, main, (s,))\n",
    "s.run()"
   ]
  },
  {
   "cell_type": "code",
   "execution_count": null,
   "metadata": {},
   "outputs": [],
   "source": [
    "now = datetime.now()\n"
   ]
  },
  {
   "cell_type": "code",
   "execution_count": null,
   "metadata": {},
   "outputs": [],
   "source": []
  }
 ],
 "metadata": {
  "kernelspec": {
   "display_name": "Python 3",
   "language": "python",
   "name": "python3"
  },
  "language_info": {
   "codemirror_mode": {
    "name": "ipython",
    "version": 3
   },
   "file_extension": ".py",
   "mimetype": "text/x-python",
   "name": "python",
   "nbconvert_exporter": "python",
   "pygments_lexer": "ipython3",
   "version": "3.6.4"
  }
 },
 "nbformat": 4,
 "nbformat_minor": 2
}
