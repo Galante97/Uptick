{
 "cells": [
  {
   "cell_type": "code",
   "execution_count": 33,
   "metadata": {},
   "outputs": [],
   "source": [
    "def a(): \n",
    "    print(\"Hello World!\")"
   ]
  },
  {
   "cell_type": "code",
   "execution_count": 30,
   "metadata": {},
   "outputs": [
    {
     "name": "stdout",
     "output_type": "stream",
     "text": [
      "[{'STOCKS': 'AAPL'}, {'STOCKS': 'MSFT'}, {'STOCKS': 'AMZN'}, {'STOCKS': 'VZ'}, {'STOCKS': 'TSLA'}, {'STOCKS': 'F'}]\n"
     ]
    }
   ],
   "source": [
    "import gspread\n",
    "from oauth2client.service_account import ServiceAccountCredentials\n",
    "\n",
    "\n",
    "# use creds to create a client to interact with the Google Drive API\n",
    "scope = ['https://spreadsheets.google.com/feeds', \n",
    "        'https://www.googleapis.com/auth/drive']\n",
    "creds = ServiceAccountCredentials.from_json_keyfile_name('client_secret.json', scope)\n",
    "client = gspread.authorize(creds)\n",
    "\n",
    "# Find a workbook by name and open the first sheet\n",
    "# Make sure you use the right name here.\n",
    "sheet = client.open(\"STOCKS LIST\").sheet1\n",
    "\n",
    "# Extract and print all of the values\n",
    "list_of_hashes = sheet.get_all_records()\n",
    "print(list_of_hashes)"
   ]
  },
  {
   "cell_type": "code",
   "execution_count": 28,
   "metadata": {},
   "outputs": [
    {
     "data": {
      "text/plain": [
       "[['STOCKS'], ['AAPL'], ['MSFT'], ['AMZN'], ['VZ'], ['TSLA'], ['F']]"
      ]
     },
     "execution_count": 28,
     "metadata": {},
     "output_type": "execute_result"
    }
   ],
   "source": [
    "sheet.get_all_values()\n"
   ]
  },
  {
   "cell_type": "code",
   "execution_count": 25,
   "metadata": {},
   "outputs": [
    {
     "data": {
      "text/plain": [
       "'STOCKS'"
      ]
     },
     "execution_count": 25,
     "metadata": {},
     "output_type": "execute_result"
    }
   ],
   "source": [
    "sheet.row_values(1)\n",
    "\n",
    "sheet.col_values(1)\n",
    "\n",
    "sheet.cell(1, 1).value"
   ]
  },
  {
   "cell_type": "code",
   "execution_count": 17,
   "metadata": {},
   "outputs": [
    {
     "data": {
      "text/plain": [
       "{'spreadsheetId': '1fek3Aa3Oo31-agVh9BkMcia4vSR4wWWGa_7wEKzVQ1E',\n",
       " 'updatedCells': 1,\n",
       " 'updatedColumns': 1,\n",
       " 'updatedRange': 'Sheet1!A1',\n",
       " 'updatedRows': 1}"
      ]
     },
     "execution_count": 17,
     "metadata": {},
     "output_type": "execute_result"
    }
   ],
   "source": [
    "sheet.update_cell(1, 1, \"This is a test of updating the first cell!\")"
   ]
  },
  {
   "cell_type": "code",
   "execution_count": 20,
   "metadata": {},
   "outputs": [
    {
     "data": {
      "text/plain": [
       "{'spreadsheetId': '1fek3Aa3Oo31-agVh9BkMcia4vSR4wWWGa_7wEKzVQ1E',\n",
       " 'updatedCells': 9,\n",
       " 'updatedColumns': 9,\n",
       " 'updatedRange': 'Sheet1!A1:I1',\n",
       " 'updatedRows': 1}"
      ]
     },
     "execution_count": 20,
     "metadata": {},
     "output_type": "execute_result"
    }
   ],
   "source": [
    "row = [\"I'm\",\"inserting\",\"a\",\"row\",\"into\",\"a,\",\"Spreadsheet\",\"with\",\"Python\"]\n",
    "index = 1\n",
    "sheet.insert_row(row, index)"
   ]
  },
  {
   "cell_type": "code",
   "execution_count": 21,
   "metadata": {},
   "outputs": [
    {
     "data": {
      "text/plain": [
       "{'replies': [{}],\n",
       " 'spreadsheetId': '1fek3Aa3Oo31-agVh9BkMcia4vSR4wWWGa_7wEKzVQ1E'}"
      ]
     },
     "execution_count": 21,
     "metadata": {},
     "output_type": "execute_result"
    }
   ],
   "source": [
    "sheet.delete_row(1)"
   ]
  },
  {
   "cell_type": "code",
   "execution_count": 37,
   "metadata": {},
   "outputs": [
    {
     "data": {
      "text/plain": [
       "1001"
      ]
     },
     "execution_count": 37,
     "metadata": {},
     "output_type": "execute_result"
    }
   ],
   "source": [
    "sheet.row_count"
   ]
  },
  {
   "cell_type": "code",
   "execution_count": 38,
   "metadata": {},
   "outputs": [
    {
     "data": {
      "text/plain": [
       "{'spreadsheetId': '1fek3Aa3Oo31-agVh9BkMcia4vSR4wWWGa_7wEKzVQ1E',\n",
       " 'tableRange': 'Sheet1!A1:A6',\n",
       " 'updates': {'spreadsheetId': '1fek3Aa3Oo31-agVh9BkMcia4vSR4wWWGa_7wEKzVQ1E',\n",
       "  'updatedCells': 1,\n",
       "  'updatedColumns': 1,\n",
       "  'updatedRange': 'Sheet1!A7',\n",
       "  'updatedRows': 1}}"
      ]
     },
     "execution_count": 38,
     "metadata": {},
     "output_type": "execute_result"
    }
   ],
   "source": [
    "sheet.append_row([\"APPENDED\"])"
   ]
  },
  {
   "cell_type": "code",
   "execution_count": 35,
   "metadata": {},
   "outputs": [
    {
     "name": "stdout",
     "output_type": "stream",
     "text": [
      "Help on Worksheet in module gspread.models object:\n",
      "\n",
      "class Worksheet(builtins.object)\n",
      " |  The class that represents a single sheet in a spreadsheet\n",
      " |  (aka \"worksheet\").\n",
      " |  \n",
      " |  Methods defined here:\n",
      " |  \n",
      " |  __init__(self, spreadsheet, properties)\n",
      " |      Initialize self.  See help(type(self)) for accurate signature.\n",
      " |  \n",
      " |  __repr__(self)\n",
      " |      Return repr(self).\n",
      " |  \n",
      " |  acell(self, label, value_render_option='FORMATTED_VALUE')\n",
      " |      Returns an instance of a :class:`gspread.models.Cell`.\n",
      " |      \n",
      " |      :param label: String with cell label in common format, e.g. 'B1'.\n",
      " |                    Letter case is ignored.\n",
      " |      :param value_render_option: Determines how values should be rendered\n",
      " |                                  in the the output. See `ValueRenderOption`_\n",
      " |                                  in the Sheets API.\n",
      " |      \n",
      " |      .. _ValueRenderOption: https://developers.google.com/sheets/api/reference/rest/v4/ValueRenderOption\n",
      " |      \n",
      " |      Example:\n",
      " |      \n",
      " |      >>> worksheet.acell('A1')\n",
      " |      <Cell R1C1 \"I'm cell A1\">\n",
      " |  \n",
      " |  add_cols(self, cols)\n",
      " |      Adds colums to worksheet.\n",
      " |      \n",
      " |      :param cols: Columns number to add.\n",
      " |  \n",
      " |  add_rows(self, rows)\n",
      " |      Adds rows to worksheet.\n",
      " |      \n",
      " |      :param rows: Rows number to add.\n",
      " |  \n",
      " |  append_row(self, values, value_input_option='RAW')\n",
      " |      Adds a row to the worksheet and populates it with values.\n",
      " |      Widens the worksheet if there are more values than columns.\n",
      " |      \n",
      " |      :param values: List of values for the new row.\n",
      " |  \n",
      " |  cell(self, row, col, value_render_option='FORMATTED_VALUE')\n",
      " |      Returns an instance of a :class:`gspread.models.Cell` positioned\n",
      " |      in `row` and `col` column.\n",
      " |      \n",
      " |      :param row: Integer row number.\n",
      " |      :param col: Integer column number.\n",
      " |      :param value_render_option: Determines how values should be rendered\n",
      " |                                  in the the output. See `ValueRenderOption`_\n",
      " |                                  in the Sheets API.\n",
      " |      \n",
      " |      .. _ValueRenderOption: https://developers.google.com/sheets/api/reference/rest/v4/ValueRenderOption\n",
      " |      \n",
      " |      Example:\n",
      " |      \n",
      " |      >>> worksheet.cell(1, 1)\n",
      " |      <Cell R1C1 \"I'm cell A1\">\n",
      " |  \n",
      " |  clear(self)\n",
      " |      Clears all cells in the worksheet.\n",
      " |  \n",
      " |  col_values(self, col, value_render_option='FORMATTED_VALUE')\n",
      " |      Returns a list of all values in column `col`.\n",
      " |      \n",
      " |      Empty cells in this list will be rendered as :const:`None`.\n",
      " |      \n",
      " |      :param col: Integer column number.\n",
      " |      :param value_render_option: Determines how values should be rendered\n",
      " |                                  in the the output. See `ValueRenderOption`_\n",
      " |                                  in the Sheets API.\n",
      " |      \n",
      " |      .. _ValueRenderOption: https://developers.google.com/sheets/api/reference/rest/v4/ValueRenderOption\n",
      " |  \n",
      " |  delete_row(self, index)\n",
      " |      \"Deletes a row from the worksheet at the specified index.\n",
      " |      \n",
      " |      :param index: Index of a row for deletion.\n",
      " |  \n",
      " |  export(self, format)\n",
      " |      .. deprecated:: 2.0\n",
      " |      This feature is not supported in Sheets API v4.\n",
      " |  \n",
      " |  find(self, query)\n",
      " |      Finds first cell matching query.\n",
      " |      \n",
      " |      :param query: A text string or compiled regular expression.\n",
      " |  \n",
      " |  findall(self, query)\n",
      " |      Finds all cells matching query.\n",
      " |      \n",
      " |      :param query: A text string or compiled regular expression.\n",
      " |  \n",
      " |  get_all_records(self, empty2zero=False, head=1, default_blank='')\n",
      " |      Returns a list of dictionaries, all of them having the contents\n",
      " |      of the spreadsheet with the head row as keys and each of these\n",
      " |      dictionaries holding the contents of subsequent rows of cells\n",
      " |      as values.\n",
      " |      \n",
      " |      Cell values are numericised (strings that can be read as ints\n",
      " |      or floats are converted).\n",
      " |      \n",
      " |      :param empty2zero: determines whether empty cells are converted\n",
      " |                         to zeros.\n",
      " |      :param head: determines wich row to use as keys, starting\n",
      " |                   from 1 following the numeration of the spreadsheet.\n",
      " |      :param default_blank: determines whether empty cells are converted\n",
      " |                            to something else except empty string or zero.\n",
      " |  \n",
      " |  get_all_values(self)\n",
      " |      Returns a list of lists containing all cells' values as strings.\n",
      " |  \n",
      " |  insert_row(self, values, index=1, value_input_option='RAW')\n",
      " |      Adds a row to the worksheet at the specified index\n",
      " |      and populates it with values.\n",
      " |      \n",
      " |      Widens the worksheet if there are more values than columns.\n",
      " |      \n",
      " |      :param values: List of values for the new row.\n",
      " |      :param value_input_option: Determines how input data should be\n",
      " |                                 interpreted. See `ValueInputOption`_\n",
      " |                                 in the Sheets API.\n",
      " |      \n",
      " |      .. _ValueInputOption: https://developers.google.com/sheets/api/reference/rest/v4/ValueInputOption\n",
      " |  \n",
      " |  range(self, name)\n",
      " |      Returns a list of :class:`Cell` objects from a specified range.\n",
      " |      \n",
      " |      :param name: A string with range value in A1 notation, e.g. 'A1:A5'.\n",
      " |      \n",
      " |      Alternatively, you may specify numeric boundaries. All values\n",
      " |      index from 1 (one):\n",
      " |      \n",
      " |      :param first_row: Integer row number\n",
      " |      :param first_col: Integer row number\n",
      " |      :param last_row: Integer row number\n",
      " |      :param last_col: Integer row number\n",
      " |      \n",
      " |      Example::\n",
      " |      \n",
      " |          >>> # Using A1 notation\n",
      " |          >>> worksheet.range('A1:B7')\n",
      " |          [<Cell R1C1 \"42\">, ...]\n",
      " |      \n",
      " |          >>> # Same with numeric boundaries\n",
      " |          >>> worksheet.range(1, 1, 7, 2)\n",
      " |          [<Cell R1C1 \"42\">, ...]\n",
      " |  \n",
      " |  resize(self, rows=None, cols=None)\n",
      " |      Resizes the worksheet.\n",
      " |      \n",
      " |      :param rows: New rows number.\n",
      " |      :param cols: New columns number.\n",
      " |  \n",
      " |  row_values(self, row, value_render_option='FORMATTED_VALUE')\n",
      " |      Returns a list of all values in a `row`.\n",
      " |      \n",
      " |      Empty cells in this list will be rendered as :const:`None`.\n",
      " |      \n",
      " |      :param row: Integer row number.\n",
      " |      :param value_render_option: Determines how values should be rendered\n",
      " |                                  in the the output. See `ValueRenderOption`_\n",
      " |                                  in the Sheets API.\n",
      " |      \n",
      " |      .. _ValueRenderOption: https://developers.google.com/sheets/api/reference/rest/v4/ValueRenderOption\n",
      " |  \n",
      " |  update_acell(self, label, value)\n",
      " |      Sets the new value to a cell.\n",
      " |      \n",
      " |      :param label: String with cell label in common format, e.g. 'B1'.\n",
      " |                    Letter case is ignored.\n",
      " |      :param value: New value.\n",
      " |      \n",
      " |      Example::\n",
      " |      \n",
      " |          worksheet.update_acell('A1', '42')\n",
      " |  \n",
      " |  update_cell(self, row, col, value)\n",
      " |      Sets the new value to a cell.\n",
      " |      \n",
      " |      :param row: Row number.\n",
      " |      :param col: Column number.\n",
      " |      :param value: New value.\n",
      " |      \n",
      " |      Example::\n",
      " |      \n",
      " |          worksheet.update_cell(1, 1, '42')\n",
      " |  \n",
      " |  update_cells(self, cell_list, value_input_option='RAW')\n",
      " |      Updates cells in batch.\n",
      " |      \n",
      " |      :param cell_list: List of a :class:`Cell` objects to update.\n",
      " |      :param value_input_option: Determines how input data should be\n",
      " |                                 interpreted. See `ValueInputOption`_\n",
      " |                                 in the Sheets API.\n",
      " |      \n",
      " |      .. _ValueInputOption: https://developers.google.com/sheets/api/reference/rest/v4/ValueInputOption\n",
      " |      \n",
      " |      Example::\n",
      " |      \n",
      " |          # Select a range\n",
      " |          cell_list = worksheet.range('A1:C7')\n",
      " |      \n",
      " |          for cell in cell_list:\n",
      " |              cell.value = 'O_o'\n",
      " |      \n",
      " |          # Update in batch\n",
      " |          worksheet.update_cells(cell_list)\n",
      " |  \n",
      " |  update_title(self, title)\n",
      " |      Renames the worksheet.\n",
      " |      \n",
      " |      :param title: A new title.\n",
      " |  \n",
      " |  ----------------------------------------------------------------------\n",
      " |  Data descriptors defined here:\n",
      " |  \n",
      " |  __dict__\n",
      " |      dictionary for instance variables (if defined)\n",
      " |  \n",
      " |  __weakref__\n",
      " |      list of weak references to the object (if defined)\n",
      " |  \n",
      " |  col_count\n",
      " |      Number of columns.\n",
      " |  \n",
      " |  id\n",
      " |      Id of a worksheet.\n",
      " |  \n",
      " |  row_count\n",
      " |      Number of rows.\n",
      " |  \n",
      " |  title\n",
      " |      Title of a worksheet.\n",
      " |  \n",
      " |  updated\n",
      " |      .. deprecated:: 2.0\n",
      " |      This feature is not supported in Sheets API v4.\n",
      "\n"
     ]
    }
   ],
   "source": [
    "help(sheet)"
   ]
  },
  {
   "cell_type": "code",
   "execution_count": null,
   "metadata": {},
   "outputs": [],
   "source": []
  }
 ],
 "metadata": {
  "kernelspec": {
   "display_name": "Python 3",
   "language": "python",
   "name": "python3"
  },
  "language_info": {
   "codemirror_mode": {
    "name": "ipython",
    "version": 3
   },
   "file_extension": ".py",
   "mimetype": "text/x-python",
   "name": "python",
   "nbconvert_exporter": "python",
   "pygments_lexer": "ipython3",
   "version": "3.6.4"
  }
 },
 "nbformat": 4,
 "nbformat_minor": 2
}
